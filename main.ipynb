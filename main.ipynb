{
 "cells": [
  {
   "cell_type": "code",
   "execution_count": 1,
   "metadata": {},
   "outputs": [],
   "source": [
    "import pandas as pd\n",
    "import matplotlib.pyplot as plt\n",
    "import numpy as np\n",
    "from skl2onnx import to_onnx\n",
    "from onnxruntime import InferenceSession\n",
    "%matplotlib inline"
   ]
  },
  {
   "cell_type": "code",
   "execution_count": 2,
   "metadata": {},
   "outputs": [],
   "source": [
    "# Load the data\n",
    "data_path = \"filled_data.csv\"\n",
    "data = pd.read_csv(data_path)\n",
    "\n",
    "# Extract the relevant columns\n",
    "datetime_column = pd.to_datetime(data['datetime'])\n",
    "# Get all feature columns except 'datetime'\n",
    "feature_columns = data.columns[1:]  # Exclude the 'datetime' column\n",
    "from challenge_utils import build_training_data"
   ]
  },
  {
   "cell_type": "code",
   "execution_count": 4,
   "metadata": {},
   "outputs": [
    {
     "data": {
      "text/plain": [
       "(17520, 28)"
      ]
     },
     "execution_count": 4,
     "metadata": {},
     "output_type": "execute_result"
    }
   ],
   "source": [
    "data.shape"
   ]
  },
  {
   "cell_type": "code",
   "execution_count": 6,
   "metadata": {},
   "outputs": [],
   "source": []
  },
  {
   "cell_type": "code",
   "execution_count": 7,
   "metadata": {},
   "outputs": [
    {
     "data": {
      "text/html": [
       "<div>\n",
       "<style scoped>\n",
       "    .dataframe tbody tr th:only-of-type {\n",
       "        vertical-align: middle;\n",
       "    }\n",
       "\n",
       "    .dataframe tbody tr th {\n",
       "        vertical-align: top;\n",
       "    }\n",
       "\n",
       "    .dataframe thead th {\n",
       "        text-align: right;\n",
       "    }\n",
       "</style>\n",
       "<table border=\"1\" class=\"dataframe\">\n",
       "  <thead>\n",
       "    <tr style=\"text-align: right;\">\n",
       "      <th></th>\n",
       "      <th>datetime</th>\n",
       "      <th>AirTemp</th>\n",
       "      <th>pres</th>\n",
       "      <th>rain</th>\n",
       "      <th>rh</th>\n",
       "      <th>wd</th>\n",
       "      <th>ws</th>\n",
       "      <th>Global_Solar_Flux</th>\n",
       "      <th>Diffuse_Solar_Flux</th>\n",
       "      <th>Direct_Solar_Flux</th>\n",
       "      <th>...</th>\n",
       "      <th>kw_heatingcoolingtotal_zone1</th>\n",
       "      <th>kw_heatingcoolingtotal_zone2</th>\n",
       "      <th>kw_lights_zone1</th>\n",
       "      <th>kw_lights_zone2</th>\n",
       "      <th>kw_total_zone1</th>\n",
       "      <th>kw_total_zone2</th>\n",
       "      <th>kw_ventilation_zone1</th>\n",
       "      <th>kw_ventilation_zone2</th>\n",
       "      <th>kw_water_heater_zone2</th>\n",
       "      <th>plugs_zone2</th>\n",
       "    </tr>\n",
       "  </thead>\n",
       "  <tbody>\n",
       "    <tr>\n",
       "      <th>0</th>\n",
       "      <td>2022-01-01 00:00:00+00:00</td>\n",
       "      <td>10.279</td>\n",
       "      <td>1005.058</td>\n",
       "      <td>0.000</td>\n",
       "      <td>95.870</td>\n",
       "      <td>187.576</td>\n",
       "      <td>1.758</td>\n",
       "      <td>-0.271</td>\n",
       "      <td>-0.370</td>\n",
       "      <td>-0.110</td>\n",
       "      <td>...</td>\n",
       "      <td>-1.798</td>\n",
       "      <td>-2.037</td>\n",
       "      <td>-0.002</td>\n",
       "      <td>-0.222</td>\n",
       "      <td>2.091</td>\n",
       "      <td>2.308</td>\n",
       "      <td>-0.027</td>\n",
       "      <td>-0.030</td>\n",
       "      <td>-0.004</td>\n",
       "      <td>-0.156</td>\n",
       "    </tr>\n",
       "    <tr>\n",
       "      <th>1</th>\n",
       "      <td>2022-01-01 01:00:00+00:00</td>\n",
       "      <td>10.318</td>\n",
       "      <td>1004.790</td>\n",
       "      <td>0.000</td>\n",
       "      <td>95.335</td>\n",
       "      <td>218.280</td>\n",
       "      <td>2.401</td>\n",
       "      <td>-0.371</td>\n",
       "      <td>-0.499</td>\n",
       "      <td>-0.231</td>\n",
       "      <td>...</td>\n",
       "      <td>-1.794</td>\n",
       "      <td>-2.170</td>\n",
       "      <td>-0.002</td>\n",
       "      <td>-0.278</td>\n",
       "      <td>2.086</td>\n",
       "      <td>2.504</td>\n",
       "      <td>-0.027</td>\n",
       "      <td>-0.044</td>\n",
       "      <td>-0.004</td>\n",
       "      <td>-0.157</td>\n",
       "    </tr>\n",
       "    <tr>\n",
       "      <th>2</th>\n",
       "      <td>2022-01-01 02:00:00+00:00</td>\n",
       "      <td>9.901</td>\n",
       "      <td>1004.791</td>\n",
       "      <td>0.013</td>\n",
       "      <td>95.699</td>\n",
       "      <td>185.351</td>\n",
       "      <td>1.821</td>\n",
       "      <td>-0.846</td>\n",
       "      <td>-0.999</td>\n",
       "      <td>-0.235</td>\n",
       "      <td>...</td>\n",
       "      <td>-1.795</td>\n",
       "      <td>-2.202</td>\n",
       "      <td>-0.002</td>\n",
       "      <td>-0.238</td>\n",
       "      <td>2.085</td>\n",
       "      <td>2.501</td>\n",
       "      <td>-0.026</td>\n",
       "      <td>-0.043</td>\n",
       "      <td>-0.004</td>\n",
       "      <td>-0.157</td>\n",
       "    </tr>\n",
       "    <tr>\n",
       "      <th>3</th>\n",
       "      <td>2022-01-01 03:00:00+00:00</td>\n",
       "      <td>9.444</td>\n",
       "      <td>1004.554</td>\n",
       "      <td>0.000</td>\n",
       "      <td>95.881</td>\n",
       "      <td>193.537</td>\n",
       "      <td>1.760</td>\n",
       "      <td>-0.632</td>\n",
       "      <td>-0.755</td>\n",
       "      <td>-0.173</td>\n",
       "      <td>...</td>\n",
       "      <td>-1.811</td>\n",
       "      <td>-2.238</td>\n",
       "      <td>-0.002</td>\n",
       "      <td>-0.240</td>\n",
       "      <td>2.100</td>\n",
       "      <td>2.539</td>\n",
       "      <td>-0.026</td>\n",
       "      <td>-0.044</td>\n",
       "      <td>-0.004</td>\n",
       "      <td>-0.157</td>\n",
       "    </tr>\n",
       "    <tr>\n",
       "      <th>4</th>\n",
       "      <td>2022-01-01 04:00:00+00:00</td>\n",
       "      <td>8.587</td>\n",
       "      <td>1004.524</td>\n",
       "      <td>0.000</td>\n",
       "      <td>96.738</td>\n",
       "      <td>174.806</td>\n",
       "      <td>1.613</td>\n",
       "      <td>-0.395</td>\n",
       "      <td>-0.489</td>\n",
       "      <td>-0.110</td>\n",
       "      <td>...</td>\n",
       "      <td>-1.814</td>\n",
       "      <td>-2.287</td>\n",
       "      <td>-0.002</td>\n",
       "      <td>-0.280</td>\n",
       "      <td>2.102</td>\n",
       "      <td>2.952</td>\n",
       "      <td>-0.027</td>\n",
       "      <td>-0.044</td>\n",
       "      <td>-0.356</td>\n",
       "      <td>-0.156</td>\n",
       "    </tr>\n",
       "  </tbody>\n",
       "</table>\n",
       "<p>5 rows × 28 columns</p>\n",
       "</div>"
      ],
      "text/plain": [
       "                    datetime  AirTemp      pres   rain      rh       wd  \\\n",
       "0  2022-01-01 00:00:00+00:00   10.279  1005.058  0.000  95.870  187.576   \n",
       "1  2022-01-01 01:00:00+00:00   10.318  1004.790  0.000  95.335  218.280   \n",
       "2  2022-01-01 02:00:00+00:00    9.901  1004.791  0.013  95.699  185.351   \n",
       "3  2022-01-01 03:00:00+00:00    9.444  1004.554  0.000  95.881  193.537   \n",
       "4  2022-01-01 04:00:00+00:00    8.587  1004.524  0.000  96.738  174.806   \n",
       "\n",
       "      ws  Global_Solar_Flux  Diffuse_Solar_Flux  Direct_Solar_Flux  ...  \\\n",
       "0  1.758             -0.271              -0.370             -0.110  ...   \n",
       "1  2.401             -0.371              -0.499             -0.231  ...   \n",
       "2  1.821             -0.846              -0.999             -0.235  ...   \n",
       "3  1.760             -0.632              -0.755             -0.173  ...   \n",
       "4  1.613             -0.395              -0.489             -0.110  ...   \n",
       "\n",
       "   kw_heatingcoolingtotal_zone1  kw_heatingcoolingtotal_zone2  \\\n",
       "0                        -1.798                        -2.037   \n",
       "1                        -1.794                        -2.170   \n",
       "2                        -1.795                        -2.202   \n",
       "3                        -1.811                        -2.238   \n",
       "4                        -1.814                        -2.287   \n",
       "\n",
       "   kw_lights_zone1  kw_lights_zone2  kw_total_zone1  kw_total_zone2  \\\n",
       "0           -0.002           -0.222           2.091           2.308   \n",
       "1           -0.002           -0.278           2.086           2.504   \n",
       "2           -0.002           -0.238           2.085           2.501   \n",
       "3           -0.002           -0.240           2.100           2.539   \n",
       "4           -0.002           -0.280           2.102           2.952   \n",
       "\n",
       "   kw_ventilation_zone1  kw_ventilation_zone2  kw_water_heater_zone2  \\\n",
       "0                -0.027                -0.030                 -0.004   \n",
       "1                -0.027                -0.044                 -0.004   \n",
       "2                -0.026                -0.043                 -0.004   \n",
       "3                -0.026                -0.044                 -0.004   \n",
       "4                -0.027                -0.044                 -0.356   \n",
       "\n",
       "   plugs_zone2  \n",
       "0       -0.156  \n",
       "1       -0.157  \n",
       "2       -0.157  \n",
       "3       -0.157  \n",
       "4       -0.156  \n",
       "\n",
       "[5 rows x 28 columns]"
      ]
     },
     "execution_count": 7,
     "metadata": {},
     "output_type": "execute_result"
    }
   ],
   "source": [
    "data.head()"
   ]
  },
  {
   "cell_type": "code",
   "execution_count": 21,
   "metadata": {},
   "outputs": [
    {
     "data": {
      "text/plain": [
       "AirTemp                          -6.440517\n",
       "pres                              1.156721\n",
       "rain                             -0.000149\n",
       "rh                                5.829063\n",
       "wd                               -3.434167\n",
       "ws                                0.295349\n",
       "Global_Solar_Flux                 5.404324\n",
       "Diffuse_Solar_Flux               10.387751\n",
       "Direct_Solar_Flux                 7.674720\n",
       "Downwelling_IR_Flux             -22.614136\n",
       "SAA                             -22.305552\n",
       "SZA                              -1.722909\n",
       "PAC                             285.544537\n",
       "TGBT [kW]                        25.069276\n",
       "kw_heater_corridor1_zone1        -0.409996\n",
       "kw_heaters_corridor_zone2        -0.706029\n",
       "kw_heaters_toilets_zone2         -0.190324\n",
       "kw_heatingcoolingtotal_zone1     -3.348341\n",
       "kw_heatingcoolingtotal_zone2     -2.434328\n",
       "kw_lights_zone1                  -0.455660\n",
       "kw_lights_zone2                  -0.350215\n",
       "kw_total_zone1                    4.773479\n",
       "kw_total_zone2                    3.272113\n",
       "kw_ventilation_zone1             -0.657158\n",
       "kw_ventilation_zone2             -0.419031\n",
       "kw_water_heater_zone2            -0.157131\n",
       "plugs_zone2                      -0.144738\n",
       "Name: kw_total_zone2, dtype: float64"
      ]
     },
     "execution_count": 21,
     "metadata": {},
     "output_type": "execute_result"
    }
   ],
   "source": [
    "cov_matrix = data.cov()\n",
    "cov_matrix.loc[\"kw_total_zone2\"]"
   ]
  },
  {
   "cell_type": "code",
   "execution_count": 12,
   "metadata": {},
   "outputs": [
    {
     "name": "stdout",
     "output_type": "stream",
     "text": [
      "Loaded hourly data\n",
      "Calculated daily energy consumption\n",
      "Calculated predictor window\n",
      "(723,)\n",
      "(723, 168, 27)\n"
     ]
    }
   ],
   "source": [
    "target_time, target, predictors = build_training_data('filled_data.csv')\n",
    "print(target.shape)\n",
    "print(predictors.shape)"
   ]
  },
  {
   "cell_type": "code",
   "execution_count": 9,
   "metadata": {},
   "outputs": [
    {
     "data": {
      "text/plain": [
       "'kw_total_zone2'"
      ]
     },
     "execution_count": 9,
     "metadata": {},
     "output_type": "execute_result"
    }
   ],
   "source": [
    "predictors.shape\n",
    "data.columns[23]"
   ]
  },
  {
   "cell_type": "code",
   "execution_count": 10,
   "metadata": {},
   "outputs": [],
   "source": [
    "# Exclude the first column (datetime)\n",
    "input_data = data.iloc[:, 1:]\n",
    "\n",
    "# Calculate the number of days (excluding the first week)\n",
    "num_days = 730 - 7  # 730 days with the first 7 days skipped\n",
    "\n",
    "# Initialize the 3D array: 24 hour, 27 variable\n",
    "targets = np.zeros((num_days, 24, input_data.shape[1]))\n",
    "\n",
    "# Iterate through each day and extract the data\n",
    "for day in range(num_days):\n",
    "    start_index = day * 24 + 7 * 24\n",
    "    end_index = start_index + 24\n",
    "    targets[day, :, :] = input_data.iloc[start_index:end_index, :]\n",
    "\n",
    "targets = targets[:, :, 22] # taking the kw_zone 2 to predict\n",
    "\n"
   ]
  },
  {
   "cell_type": "code",
   "execution_count": 13,
   "metadata": {},
   "outputs": [
    {
     "data": {
      "text/plain": [
       "(723, 24)"
      ]
     },
     "execution_count": 13,
     "metadata": {},
     "output_type": "execute_result"
    }
   ],
   "source": [
    "targets.shape"
   ]
  },
  {
   "cell_type": "code",
   "execution_count": 8,
   "metadata": {},
   "outputs": [
    {
     "name": "stdout",
     "output_type": "stream",
     "text": [
      "(723, 168, 27)\n",
      "(723, 24)\n"
     ]
    }
   ],
   "source": [
    "from sklearn.preprocessing import MinMaxScaler\n",
    "\n",
    "# normalize features\n",
    "scaler = MinMaxScaler(feature_range=(0, 1))\n",
    "\n",
    "# Reshape the array to (723 * 168, 27) to apply MinMaxScaler\n",
    "reshaped_predictors = predictors.reshape(-1, 27)\n",
    "\n",
    "# Fit and transform the data\n",
    "scaled_predictors = scaler.fit_transform(reshaped_predictors)\n",
    "\n",
    "# Reshape the scaled data back to the original shape\n",
    "predictors = scaled_predictors.reshape(predictors.shape)\n",
    "\n",
    "\n",
    "reshaped_target = target.reshape(-1, 1)\n",
    "targets = scaler.fit_transform(targets)\n",
    "# target = scaler.fit_transform(reshaped_target)\n",
    "\n",
    "print(predictors.shape)\n",
    "print(targets.shape)\n"
   ]
  },
  {
   "cell_type": "code",
   "execution_count": 10,
   "metadata": {},
   "outputs": [
    {
     "name": "stdout",
     "output_type": "stream",
     "text": [
      "(578, 168, 27) (578, 24) (145, 168, 27) (145, 24)\n"
     ]
    }
   ],
   "source": [
    "from sklearn.model_selection import train_test_split\n",
    "\n",
    "# split_index = int(len(targets) * 0.8)\n",
    "\n",
    "# # Split the vectors into training and testing sets\n",
    "# train_y, test_y = target[:split_index], target[split_index:]\n",
    "# train_X, test_X = predictors[:split_index], predictors[split_index:]\n",
    "\n",
    "train_X, test_X, train_y, test_y, indices_train, indices_test = train_test_split(predictors, targets, np.arange(len(targets)), test_size=0.2, random_state=55)\n",
    "\n",
    "print(train_X.shape, train_y.shape, test_X.shape, test_y.shape)"
   ]
  },
  {
   "cell_type": "code",
   "execution_count": 11,
   "metadata": {},
   "outputs": [
    {
     "data": {
      "text/plain": [
       "145"
      ]
     },
     "execution_count": 11,
     "metadata": {},
     "output_type": "execute_result"
    }
   ],
   "source": [
    "len(indices_test)"
   ]
  },
  {
   "cell_type": "code",
   "execution_count": 12,
   "metadata": {},
   "outputs": [],
   "source": [
    "def relative_squared_error(y_pred, y_true):\n",
    "    \"\"\"Relative squared error (RSE; also called relative mean square error). < 1 is good, = 1 is bad, > 1 really bad.\"\"\"\n",
    "    return K.mean((y_pred - y_true)**2)/K.mean((y_true - K.mean(y_true))**2)"
   ]
  },
  {
   "cell_type": "code",
   "execution_count": 16,
   "metadata": {},
   "outputs": [
    {
     "ename": "ModuleNotFoundError",
     "evalue": "No module named 'tensorflow'",
     "output_type": "error",
     "traceback": [
      "\u001b[0;31m---------------------------------------------------------------------------\u001b[0m",
      "\u001b[0;31mModuleNotFoundError\u001b[0m                       Traceback (most recent call last)",
      "Cell \u001b[0;32mIn[16], line 1\u001b[0m\n\u001b[0;32m----> 1\u001b[0m \u001b[38;5;28;01mfrom\u001b[39;00m \u001b[38;5;21;01mtensorflow\u001b[39;00m\u001b[38;5;21;01m.\u001b[39;00m\u001b[38;5;21;01mkeras\u001b[39;00m\u001b[38;5;21;01m.\u001b[39;00m\u001b[38;5;21;01mmodels\u001b[39;00m \u001b[38;5;28;01mimport\u001b[39;00m Sequential\n\u001b[1;32m      2\u001b[0m \u001b[38;5;28;01mfrom\u001b[39;00m \u001b[38;5;21;01mtensorflow\u001b[39;00m\u001b[38;5;21;01m.\u001b[39;00m\u001b[38;5;21;01mkeras\u001b[39;00m\u001b[38;5;21;01m.\u001b[39;00m\u001b[38;5;21;01mlayers\u001b[39;00m \u001b[38;5;28;01mimport\u001b[39;00m LSTM, Dense\n\u001b[1;32m      3\u001b[0m \u001b[38;5;28;01mfrom\u001b[39;00m \u001b[38;5;21;01mtensorflow\u001b[39;00m\u001b[38;5;21;01m.\u001b[39;00m\u001b[38;5;21;01mkeras\u001b[39;00m\u001b[38;5;21;01m.\u001b[39;00m\u001b[38;5;21;01mlayers\u001b[39;00m \u001b[38;5;28;01mimport\u001b[39;00m Lambda\n",
      "\u001b[0;31mModuleNotFoundError\u001b[0m: No module named 'tensorflow'"
     ]
    }
   ],
   "source": [
    "from tensorflow.keras.models import Sequential\n",
    "from tensorflow.keras.layers import LSTM, Dense\n",
    "from tensorflow.keras.layers import Lambda\n",
    "import tensorflow.keras.backend as K\n",
    "import matplotlib.pyplot as plt"
   ]
  },
  {
   "cell_type": "code",
   "execution_count": 17,
   "metadata": {},
   "outputs": [
    {
     "ename": "NameError",
     "evalue": "name 'train_X' is not defined",
     "output_type": "error",
     "traceback": [
      "\u001b[0;31m---------------------------------------------------------------------------\u001b[0m",
      "\u001b[0;31mNameError\u001b[0m                                 Traceback (most recent call last)",
      "Cell \u001b[0;32mIn[17], line 1\u001b[0m\n\u001b[0;32m----> 1\u001b[0m [x\u001b[38;5;241m.\u001b[39mshape \u001b[38;5;28;01mfor\u001b[39;00m x \u001b[38;5;129;01min\u001b[39;00m [\u001b[43mtrain_X\u001b[49m, train_y, test_X, test_y]]\n",
      "\u001b[0;31mNameError\u001b[0m: name 'train_X' is not defined"
     ]
    }
   ],
   "source": [
    "[x.shape for x in [train_X, train_y, test_X, test_y]]"
   ]
  },
  {
   "cell_type": "code",
   "execution_count": 15,
   "metadata": {},
   "outputs": [
    {
     "ename": "NameError",
     "evalue": "name 'Sequential' is not defined",
     "output_type": "error",
     "traceback": [
      "\u001b[0;31m---------------------------------------------------------------------------\u001b[0m",
      "\u001b[0;31mNameError\u001b[0m                                 Traceback (most recent call last)",
      "Cell \u001b[0;32mIn[15], line 1\u001b[0m\n\u001b[0;32m----> 1\u001b[0m m \u001b[38;5;241m=\u001b[39m \u001b[43mSequential\u001b[49m()\n\u001b[1;32m      2\u001b[0m m\u001b[38;5;241m.\u001b[39madd(LSTM(\u001b[38;5;241m1\u001b[39m, input_shape\u001b[38;5;241m=\u001b[39m(train_X\u001b[38;5;241m.\u001b[39mshape[\u001b[38;5;241m1\u001b[39m], train_X\u001b[38;5;241m.\u001b[39mshape[\u001b[38;5;241m2\u001b[39m])))\n\u001b[1;32m      3\u001b[0m model\u001b[38;5;241m.\u001b[39mcompile(loss\u001b[38;5;241m=\u001b[39m\u001b[38;5;124m'\u001b[39m\u001b[38;5;124mmse\u001b[39m\u001b[38;5;124m'\u001b[39m, optimizer\u001b[38;5;241m=\u001b[39m\u001b[38;5;124m'\u001b[39m\u001b[38;5;124madam\u001b[39m\u001b[38;5;124m'\u001b[39m)\n",
      "\u001b[0;31mNameError\u001b[0m: name 'Sequential' is not defined"
     ]
    }
   ],
   "source": [
    "m = Sequential()\n",
    "m.add(LSTM(1, input_shape=(train_X.shape[1], train_X.shape[2])))\n",
    "model.compile(loss='mse', optimizer='adam')\n",
    "\n",
    "m(train_X[:1,:,:])"
   ]
  },
  {
   "cell_type": "code",
   "execution_count": 15,
   "metadata": {},
   "outputs": [
    {
     "name": "stdout",
     "output_type": "stream",
     "text": [
      "Epoch 1/75\n",
      "33/33 - 5s - loss: 0.0372 - val_loss: 0.0216 - 5s/epoch - 166ms/step\n",
      "Epoch 2/75\n",
      "33/33 - 3s - loss: 0.0175 - val_loss: 0.0159 - 3s/epoch - 104ms/step\n",
      "Epoch 3/75\n",
      "33/33 - 4s - loss: 0.0156 - val_loss: 0.0155 - 4s/epoch - 109ms/step\n",
      "Epoch 4/75\n",
      "33/33 - 3s - loss: 0.0149 - val_loss: 0.0152 - 3s/epoch - 100ms/step\n",
      "Epoch 5/75\n",
      "33/33 - 3s - loss: 0.0143 - val_loss: 0.0148 - 3s/epoch - 103ms/step\n",
      "Epoch 6/75\n",
      "33/33 - 3s - loss: 0.0139 - val_loss: 0.0147 - 3s/epoch - 97ms/step\n",
      "Epoch 7/75\n",
      "33/33 - 3s - loss: 0.0136 - val_loss: 0.0146 - 3s/epoch - 95ms/step\n",
      "Epoch 8/75\n",
      "33/33 - 3s - loss: 0.0133 - val_loss: 0.0145 - 3s/epoch - 101ms/step\n",
      "Epoch 9/75\n",
      "33/33 - 3s - loss: 0.0130 - val_loss: 0.0144 - 3s/epoch - 97ms/step\n",
      "Epoch 10/75\n",
      "33/33 - 3s - loss: 0.0128 - val_loss: 0.0143 - 3s/epoch - 99ms/step\n",
      "Epoch 11/75\n",
      "33/33 - 4s - loss: 0.0126 - val_loss: 0.0143 - 4s/epoch - 114ms/step\n",
      "Epoch 12/75\n",
      "33/33 - 3s - loss: 0.0124 - val_loss: 0.0144 - 3s/epoch - 99ms/step\n",
      "Epoch 13/75\n",
      "33/33 - 3s - loss: 0.0122 - val_loss: 0.0144 - 3s/epoch - 95ms/step\n",
      "Epoch 14/75\n",
      "33/33 - 3s - loss: 0.0120 - val_loss: 0.0145 - 3s/epoch - 101ms/step\n",
      "Epoch 15/75\n",
      "33/33 - 3s - loss: 0.0118 - val_loss: 0.0145 - 3s/epoch - 103ms/step\n",
      "Epoch 16/75\n",
      "33/33 - 3s - loss: 0.0117 - val_loss: 0.0145 - 3s/epoch - 99ms/step\n",
      "Epoch 17/75\n",
      "33/33 - 3s - loss: 0.0115 - val_loss: 0.0146 - 3s/epoch - 95ms/step\n",
      "Epoch 18/75\n",
      "33/33 - 3s - loss: 0.0113 - val_loss: 0.0146 - 3s/epoch - 99ms/step\n",
      "Epoch 19/75\n",
      "33/33 - 3s - loss: 0.0111 - val_loss: 0.0145 - 3s/epoch - 98ms/step\n",
      "Epoch 20/75\n",
      "33/33 - 3s - loss: 0.0109 - val_loss: 0.0145 - 3s/epoch - 99ms/step\n",
      "Epoch 21/75\n",
      "33/33 - 3s - loss: 0.0108 - val_loss: 0.0146 - 3s/epoch - 100ms/step\n",
      "Epoch 22/75\n",
      "33/33 - 3s - loss: 0.0108 - val_loss: 0.0139 - 3s/epoch - 97ms/step\n",
      "Epoch 23/75\n",
      "33/33 - 3s - loss: 0.0106 - val_loss: 0.0141 - 3s/epoch - 97ms/step\n",
      "Epoch 24/75\n",
      "33/33 - 3s - loss: 0.0104 - val_loss: 0.0136 - 3s/epoch - 96ms/step\n",
      "Epoch 25/75\n",
      "33/33 - 3s - loss: 0.0104 - val_loss: 0.0146 - 3s/epoch - 103ms/step\n",
      "Epoch 26/75\n",
      "33/33 - 3s - loss: 0.0101 - val_loss: 0.0150 - 3s/epoch - 100ms/step\n",
      "Epoch 27/75\n",
      "33/33 - 3s - loss: 0.0098 - val_loss: 0.0155 - 3s/epoch - 97ms/step\n",
      "Epoch 28/75\n",
      "33/33 - 3s - loss: 0.0096 - val_loss: 0.0160 - 3s/epoch - 96ms/step\n",
      "Epoch 29/75\n",
      "33/33 - 4s - loss: 0.0096 - val_loss: 0.0164 - 4s/epoch - 106ms/step\n",
      "Epoch 30/75\n",
      "33/33 - 3s - loss: 0.0096 - val_loss: 0.0155 - 3s/epoch - 97ms/step\n",
      "Epoch 31/75\n",
      "33/33 - 3s - loss: 0.0095 - val_loss: 0.0166 - 3s/epoch - 99ms/step\n",
      "Epoch 32/75\n",
      "33/33 - 3s - loss: 0.0094 - val_loss: 0.0168 - 3s/epoch - 102ms/step\n",
      "Epoch 33/75\n",
      "33/33 - 3s - loss: 0.0098 - val_loss: 0.0174 - 3s/epoch - 100ms/step\n",
      "Epoch 34/75\n",
      "33/33 - 3s - loss: 0.0109 - val_loss: 0.0139 - 3s/epoch - 102ms/step\n",
      "Epoch 35/75\n",
      "33/33 - 3s - loss: 0.0099 - val_loss: 0.0144 - 3s/epoch - 102ms/step\n",
      "Epoch 36/75\n",
      "33/33 - 3s - loss: 0.0093 - val_loss: 0.0153 - 3s/epoch - 99ms/step\n",
      "Epoch 37/75\n",
      "33/33 - 3s - loss: 0.0090 - val_loss: 0.0152 - 3s/epoch - 98ms/step\n",
      "Epoch 38/75\n",
      "33/33 - 4s - loss: 0.0087 - val_loss: 0.0154 - 4s/epoch - 107ms/step\n",
      "Epoch 39/75\n",
      "33/33 - 3s - loss: 0.0088 - val_loss: 0.0147 - 3s/epoch - 102ms/step\n",
      "Epoch 40/75\n",
      "33/33 - 3s - loss: 0.0089 - val_loss: 0.0153 - 3s/epoch - 103ms/step\n",
      "Epoch 41/75\n",
      "33/33 - 3s - loss: 0.0088 - val_loss: 0.0154 - 3s/epoch - 102ms/step\n",
      "Epoch 42/75\n",
      "33/33 - 3s - loss: 0.0086 - val_loss: 0.0155 - 3s/epoch - 97ms/step\n",
      "Epoch 43/75\n",
      "33/33 - 3s - loss: 0.0085 - val_loss: 0.0145 - 3s/epoch - 97ms/step\n",
      "Epoch 44/75\n",
      "33/33 - 3s - loss: 0.0084 - val_loss: 0.0157 - 3s/epoch - 98ms/step\n",
      "Epoch 45/75\n",
      "33/33 - 3s - loss: 0.0085 - val_loss: 0.0155 - 3s/epoch - 99ms/step\n",
      "Epoch 46/75\n",
      "33/33 - 3s - loss: 0.0088 - val_loss: 0.0158 - 3s/epoch - 98ms/step\n",
      "Epoch 47/75\n",
      "33/33 - 3s - loss: 0.0087 - val_loss: 0.0159 - 3s/epoch - 98ms/step\n",
      "Epoch 48/75\n",
      "33/33 - 3s - loss: 0.0085 - val_loss: 0.0159 - 3s/epoch - 97ms/step\n",
      "Epoch 49/75\n",
      "33/33 - 3s - loss: 0.0083 - val_loss: 0.0154 - 3s/epoch - 97ms/step\n",
      "Epoch 50/75\n",
      "33/33 - 3s - loss: 0.0080 - val_loss: 0.0153 - 3s/epoch - 103ms/step\n",
      "Epoch 51/75\n",
      "33/33 - 3s - loss: 0.0079 - val_loss: 0.0159 - 3s/epoch - 100ms/step\n",
      "Epoch 52/75\n",
      "33/33 - 3s - loss: 0.0079 - val_loss: 0.0158 - 3s/epoch - 99ms/step\n",
      "Epoch 53/75\n",
      "33/33 - 3s - loss: 0.0080 - val_loss: 0.0153 - 3s/epoch - 101ms/step\n",
      "Epoch 54/75\n",
      "33/33 - 3s - loss: 0.0084 - val_loss: 0.0146 - 3s/epoch - 98ms/step\n",
      "Epoch 55/75\n",
      "33/33 - 3s - loss: 0.0082 - val_loss: 0.0150 - 3s/epoch - 98ms/step\n",
      "Epoch 56/75\n",
      "33/33 - 3s - loss: 0.0082 - val_loss: 0.0160 - 3s/epoch - 99ms/step\n",
      "Epoch 57/75\n",
      "33/33 - 3s - loss: 0.0081 - val_loss: 0.0156 - 3s/epoch - 99ms/step\n",
      "Epoch 58/75\n",
      "33/33 - 3s - loss: 0.0080 - val_loss: 0.0165 - 3s/epoch - 104ms/step\n",
      "Epoch 59/75\n",
      "33/33 - 3s - loss: 0.0089 - val_loss: 0.0159 - 3s/epoch - 100ms/step\n",
      "Epoch 60/75\n",
      "33/33 - 3s - loss: 0.0085 - val_loss: 0.0159 - 3s/epoch - 98ms/step\n",
      "Epoch 61/75\n",
      "33/33 - 3s - loss: 0.0079 - val_loss: 0.0163 - 3s/epoch - 99ms/step\n",
      "Epoch 62/75\n",
      "33/33 - 3s - loss: 0.0075 - val_loss: 0.0157 - 3s/epoch - 101ms/step\n",
      "Epoch 63/75\n",
      "33/33 - 3s - loss: 0.0078 - val_loss: 0.0158 - 3s/epoch - 101ms/step\n",
      "Epoch 64/75\n",
      "33/33 - 3s - loss: 0.0074 - val_loss: 0.0172 - 3s/epoch - 101ms/step\n",
      "Epoch 65/75\n",
      "33/33 - 3s - loss: 0.0070 - val_loss: 0.0166 - 3s/epoch - 103ms/step\n",
      "Epoch 66/75\n",
      "33/33 - 3s - loss: 0.0068 - val_loss: 0.0168 - 3s/epoch - 101ms/step\n",
      "Epoch 67/75\n",
      "33/33 - 3s - loss: 0.0066 - val_loss: 0.0180 - 3s/epoch - 99ms/step\n",
      "Epoch 68/75\n",
      "33/33 - 4s - loss: 0.0066 - val_loss: 0.0177 - 4s/epoch - 107ms/step\n",
      "Epoch 69/75\n",
      "33/33 - 4s - loss: 0.0065 - val_loss: 0.0181 - 4s/epoch - 109ms/step\n",
      "Epoch 70/75\n",
      "33/33 - 3s - loss: 0.0064 - val_loss: 0.0168 - 3s/epoch - 105ms/step\n",
      "Epoch 71/75\n",
      "33/33 - 3s - loss: 0.0064 - val_loss: 0.0167 - 3s/epoch - 106ms/step\n",
      "Epoch 72/75\n",
      "33/33 - 3s - loss: 0.0068 - val_loss: 0.0169 - 3s/epoch - 101ms/step\n",
      "Epoch 73/75\n",
      "33/33 - 3s - loss: 0.0066 - val_loss: 0.0169 - 3s/epoch - 99ms/step\n",
      "Epoch 74/75\n",
      "33/33 - 3s - loss: 0.0063 - val_loss: 0.0158 - 3s/epoch - 103ms/step\n",
      "Epoch 75/75\n",
      "33/33 - 3s - loss: 0.0061 - val_loss: 0.0164 - 3s/epoch - 101ms/step\n"
     ]
    }
   ],
   "source": [
    "\n",
    "\n",
    "# Design Lambda\n",
    "int_layer = Lambda(lambda x: K.sum(x, axis=1))\n",
    "\n",
    "# design network\n",
    "model = Sequential()\n",
    "model.add(LSTM(100, input_shape=(train_X.shape[1], train_X.shape[2])))\n",
    "model.add(Dense(64))\n",
    "model.add(Dense(24))\n",
    "# model.add(Dense(1))\n",
    "# model.add(int_layer)\n",
    "model.compile(loss='mse', optimizer='adam')\n",
    "# fit network\n",
    "\n",
    "\n",
    "history = model.fit(train_X, train_y, epochs=75, batch_size=18, validation_data=(test_X, test_y), verbose=2, shuffle=False)\n"
   ]
  },
  {
   "cell_type": "code",
   "execution_count": 16,
   "metadata": {},
   "outputs": [
    {
     "name": "stdout",
     "output_type": "stream",
     "text": [
      "Model: \"sequential\"\n",
      "_________________________________________________________________\n",
      " Layer (type)                Output Shape              Param #   \n",
      "=================================================================\n",
      " lstm (LSTM)                 (None, 100)               51200     \n",
      "                                                                 \n",
      " dense (Dense)               (None, 64)                6464      \n",
      "                                                                 \n",
      " dense_1 (Dense)             (None, 24)                1560      \n",
      "                                                                 \n",
      "=================================================================\n",
      "Total params: 59,224\n",
      "Trainable params: 59,224\n",
      "Non-trainable params: 0\n",
      "_________________________________________________________________\n"
     ]
    }
   ],
   "source": [
    "model.summary()"
   ]
  },
  {
   "cell_type": "code",
   "execution_count": 17,
   "metadata": {},
   "outputs": [
    {
     "data": {
      "image/png": "[encoded data removed]",
      "text/plain": [
       "<Figure size 640x480 with 1 Axes>"
      ]
     },
     "metadata": {},
     "output_type": "display_data"
    }
   ],
   "source": [
    "# plot history\n",
    "plt.plot(history.history['loss'], label='train')\n",
    "plt.plot(history.history['val_loss'], label='test')\n",
    "plt.legend()\n",
    "plt.show()"
   ]
  },
  {
   "cell_type": "code",
   "execution_count": 18,
   "metadata": {},
   "outputs": [
    {
     "name": "stdout",
     "output_type": "stream",
     "text": [
      "23/23 [==============================] - 1s 31ms/step\n"
     ]
    },
    {
     "data": {
      "text/plain": [
       "(723, 24)"
      ]
     },
     "execution_count": 18,
     "metadata": {},
     "output_type": "execute_result"
    }
   ],
   "source": [
    "# make a prediction\n",
    "yhat = model.predict(predictors)\n",
    "yhat.shape"
   ]
  },
  {
   "cell_type": "code",
   "execution_count": 19,
   "metadata": {},
   "outputs": [
    {
     "name": "stdout",
     "output_type": "stream",
     "text": [
      "5/5 [==============================] - 0s 42ms/step\n"
     ]
    },
    {
     "data": {
      "text/plain": [
       "(145, 24)"
      ]
     },
     "execution_count": 19,
     "metadata": {},
     "output_type": "execute_result"
    }
   ],
   "source": [
    "yhat_test = model.predict(test_X)\n",
    "yhat_test.shape"
   ]
  },
  {
   "cell_type": "code",
   "execution_count": 20,
   "metadata": {},
   "outputs": [
    {
     "name": "stdout",
     "output_type": "stream",
     "text": [
      "19/19 [==============================] - 1s 37ms/step\n"
     ]
    },
    {
     "data": {
      "text/plain": [
       "(578, 24)"
      ]
     },
     "execution_count": 20,
     "metadata": {},
     "output_type": "execute_result"
    }
   ],
   "source": [
    "yhat_train = model.predict(train_X)\n",
    "yhat_train.shape"
   ]
  },
  {
   "cell_type": "code",
   "execution_count": 21,
   "metadata": {},
   "outputs": [
    {
     "data": {
      "text/plain": [
       "(578,)"
      ]
     },
     "execution_count": 21,
     "metadata": {},
     "output_type": "execute_result"
    }
   ],
   "source": [
    "train_target = target[indices_train]\n",
    "train_target.shape"
   ]
  },
  {
   "cell_type": "code",
   "execution_count": 22,
   "metadata": {},
   "outputs": [
    {
     "data": {
      "text/plain": [
       "(145,)"
      ]
     },
     "execution_count": 22,
     "metadata": {},
     "output_type": "execute_result"
    }
   ],
   "source": [
    "test_target = target[indices_test]\n",
    "test_target.shape"
   ]
  },
  {
   "cell_type": "code",
   "execution_count": 23,
   "metadata": {},
   "outputs": [
    {
     "data": {
      "text/plain": [
       "(723, 24)"
      ]
     },
     "execution_count": 23,
     "metadata": {},
     "output_type": "execute_result"
    }
   ],
   "source": [
    "inv_yhat = scaler.inverse_transform(yhat)\n",
    "inv_yhat.shape"
   ]
  },
  {
   "cell_type": "code",
   "execution_count": 24,
   "metadata": {},
   "outputs": [
    {
     "data": {
      "text/plain": [
       "(578, 24)"
      ]
     },
     "execution_count": 24,
     "metadata": {},
     "output_type": "execute_result"
    }
   ],
   "source": [
    "inv_yhat_train = scaler.inverse_transform(yhat_train)\n",
    "inv_yhat_train.shape"
   ]
  },
  {
   "cell_type": "code",
   "execution_count": 25,
   "metadata": {},
   "outputs": [
    {
     "data": {
      "text/plain": [
       "(145, 24)"
      ]
     },
     "execution_count": 25,
     "metadata": {},
     "output_type": "execute_result"
    }
   ],
   "source": [
    "inv_yhat_test = scaler.inverse_transform(yhat_test)\n",
    "inv_yhat_test.shape"
   ]
  },
  {
   "cell_type": "code",
   "execution_count": 26,
   "metadata": {},
   "outputs": [
    {
     "data": {
      "text/plain": [
       "(723,)"
      ]
     },
     "execution_count": 26,
     "metadata": {},
     "output_type": "execute_result"
    }
   ],
   "source": [
    "predicted_kw_zone2 = np.trapz(inv_yhat, axis=1)\n",
    "predicted_kw_zone2.shape"
   ]
  },
  {
   "cell_type": "code",
   "execution_count": 27,
   "metadata": {},
   "outputs": [
    {
     "data": {
      "text/plain": [
       "(578,)"
      ]
     },
     "execution_count": 27,
     "metadata": {},
     "output_type": "execute_result"
    }
   ],
   "source": [
    "predicted_kw_zone2_train = np.trapz(inv_yhat_train, axis=1)\n",
    "predicted_kw_zone2_train.shape"
   ]
  },
  {
   "cell_type": "code",
   "execution_count": 28,
   "metadata": {},
   "outputs": [
    {
     "data": {
      "text/plain": [
       "(145,)"
      ]
     },
     "execution_count": 28,
     "metadata": {},
     "output_type": "execute_result"
    }
   ],
   "source": [
    "predicted_kw_zone2_test = np.trapz(inv_yhat_test, axis=1)\n",
    "predicted_kw_zone2_test.shape"
   ]
  },
  {
   "cell_type": "code",
   "execution_count": 29,
   "metadata": {},
   "outputs": [
    {
     "name": "stdout",
     "output_type": "stream",
     "text": [
      "56.399338 45.964000000000006\n",
      "65.80018 57.75049999999999\n",
      "111.79809 111.27949999999998\n",
      "102.89123 96.05150000000002\n",
      "99.73163 101.8965\n",
      "101.181946 99.7285\n",
      "87.64209 94.511\n",
      "64.88383 57.508\n",
      "102.623856 114.774\n",
      "102.940765 93.792\n",
      "94.146614 93.44750000000002\n",
      "120.50233 112.281\n",
      "119.8528 115.29699999999998\n",
      "123.85371 118.81450000000002\n",
      "85.84236 73.7635\n",
      "104.47591 86.311\n",
      "142.31752 136.92149999999998\n",
      "159.93071 153.89149999999998\n",
      "145.38918 133.4875\n",
      "138.25061 135.09600000000003\n",
      "118.23333 117.304\n",
      "97.40328 84.843\n",
      "89.68733 83.34049999999999\n",
      "139.42377 131.41649999999998\n",
      "120.82153 114.0025\n",
      "89.62119 106.86600000000001\n",
      "90.4845 111.908\n",
      "126.39082 120.7865\n",
      "88.60054 87.6235\n",
      "85.70098 80.33050000000001\n",
      "121.652504 128.498\n",
      "118.54157 112.13699999999999\n",
      "102.240234 103.40249999999999\n",
      "73.70618 112.53550000000001\n",
      "125.167816 42.04200000000001\n",
      "53.21669 84.628\n",
      "82.76061 83.50200000000001\n",
      "127.87205 120.25899999999999\n",
      "126.63109 123.74749999999999\n",
      "94.40108 95.37050000000004\n",
      "110.46536 99.69449999999999\n",
      "102.91667 100.811\n",
      "80.1589 85.2775\n",
      "76.334175 72.92\n",
      "135.14388 129.1965\n",
      "118.187805 117.62650000000001\n",
      "80.754005 100.132\n",
      "72.64701 46.6155\n",
      "3.259123 0.0\n",
      "6.2998633 0.0\n",
      "13.766991 0.0\n",
      "10.265585 0.0\n",
      "68.198616 69.1785\n",
      "70.92562 113.221\n",
      "125.061 121.54599999999999\n",
      "126.99695 119.482\n",
      "98.10116 96.725\n",
      "117.11922 100.51299999999999\n",
      "135.55 133.441\n",
      "132.1757 137.3975\n",
      "132.0222 128.049\n",
      "120.646515 106.47150000000002\n",
      "96.47165 104.6025\n",
      "112.32381 77.0\n",
      "84.04164 79.916\n",
      "141.87407 136.41049999999996\n",
      "119.43964 113.67\n",
      "132.62274 115.55049999999999\n",
      "114.631355 117.45449999999997\n",
      "122.002785 108.75250000000001\n",
      "78.15399 77.9595\n",
      "92.166306 88.59049999999999\n",
      "143.51656 90.28800000000003\n",
      "107.79504 94.15549999999998\n",
      "95.12164 93.595\n",
      "94.76693 95.82300000000001\n",
      "79.82188 80.916\n",
      "71.443756 69.39750000000001\n",
      "70.33778 72.165\n",
      "91.43249 102.893\n",
      "96.52536 100.63999999999999\n",
      "85.76874 99.64999999999998\n",
      "142.45538 146.777\n",
      "169.41266 168.554\n",
      "168.64658 94.03700000000002\n",
      "67.41069 96.7305\n",
      "107.3595 134.10150000000002\n",
      "119.461914 104.7505\n",
      "74.307335 115.0815\n",
      "83.83882 76.51599999999999\n",
      "141.46881 142.08\n",
      "164.31483 120.02650000000001\n",
      "102.24288 111.37100000000001\n",
      "110.691765 111.31600000000002\n",
      "101.678825 83.88900000000001\n",
      "78.29139 86.473\n",
      "73.3531 79.1785\n",
      "78.4216 82.69800000000001\n",
      "55.67668 48.71900000000001\n",
      "68.351006 85.03\n",
      "57.277954 62.751999999999995\n",
      "85.54817 85.26400000000001\n",
      "80.14829 85.156\n",
      "74.491684 81.9455\n",
      "79.22625 85.12000000000002\n",
      "73.896736 66.80650000000001\n",
      "63.82546 70.475\n",
      "91.409096 88.48400000000001\n",
      "96.08382 89.022\n",
      "86.26204 83.22900000000001\n",
      "75.39174 81.938\n",
      "71.68327 75.5105\n",
      "72.62232 77.27850000000001\n",
      "80.77276 79.5895\n",
      "82.46621 83.11600000000001\n",
      "90.97276 97.2755\n",
      "80.08461 80.84499999999998\n",
      "74.39935 72.26849999999999\n",
      "71.57916 65.26\n",
      "54.14192 54.21250000000001\n",
      "55.127796 52.425\n",
      "61.758472 67.8485\n",
      "64.18529 50.544999999999995\n",
      "44.123913 45.8505\n",
      "39.570816 43.1095\n",
      "39.880756 40.32099999999999\n",
      "27.322834 30.271500000000003\n",
      "28.464697 27.625\n",
      "32.802803 36.243500000000004\n",
      "41.587162 45.219500000000004\n",
      "45.946987 47.458499999999994\n",
      "43.757786 41.46850000000001\n",
      "38.857887 32.5215\n",
      "32.82092 24.5575\n",
      "21.386381 23.619\n",
      "29.360487 40.9625\n",
      "45.392006 45.738499999999995\n",
      "48.115387 41.69450000000001\n",
      "38.29232 27.186500000000002\n",
      "29.005753 29.962\n",
      "28.36219 27.655500000000004\n",
      "31.221329 29.334000000000003\n",
      "45.2232 50.99599999999999\n",
      "57.65998 39.388999999999996\n",
      "50.79212 39.4965\n",
      "43.758137 36.181\n",
      "36.12096 31.495\n",
      "25.562963 23.797500000000003\n",
      "25.3835 18.15\n",
      "41.931744 28.3925\n",
      "36.667046 37.97449999999999\n",
      "42.09032 42.7645\n",
      "38.587917 40.312\n",
      "39.910652 38.17\n",
      "38.5298 23.531\n",
      "30.203117 22.389000000000003\n",
      "28.425304 41.32499999999999\n",
      "43.38263 39.065999999999995\n",
      "43.619965 47.725500000000004\n",
      "41.91123 46.407\n",
      "39.959785 42.887\n",
      "40.38214 35.8065\n",
      "34.562424 30.314\n",
      "36.47672 43.837999999999994\n",
      "48.903324 45.9265\n",
      "47.286354 46.12500000000001\n",
      "44.477043 42.5745\n",
      "39.465057 39.86650000000001\n",
      "36.12459 30.54850000000001\n",
      "28.319208 29.302999999999997\n",
      "38.747215 41.062\n",
      "45.052067 43.576\n",
      "43.87733 46.640499999999996\n",
      "41.60598 51.176\n",
      "44.358837 42.5645\n",
      "36.783066 29.666999999999994\n",
      "24.83523 30.134500000000003\n",
      "32.046944 44.52949999999999\n",
      "43.232803 51.59550000000001\n",
      "53.194298 50.71249999999999\n",
      "48.66861 51.48500000000001\n",
      "40.24695 41.240500000000004\n",
      "33.13673 23.981500000000004\n",
      "23.519186 23.997999999999998\n",
      "23.798485 50.06600000000001\n",
      "44.78958 58.159\n",
      "49.41413 56.6905\n",
      "44.795315 43.109000000000016\n",
      "27.386488 36.776500000000006\n",
      "25.16702 25.332000000000004\n",
      "25.427713 25.880499999999998\n",
      "31.358473 55.834\n",
      "40.985306 68.23949999999999\n",
      "48.158936 47.1835\n",
      "38.36437 42.955\n",
      "35.34029 40.257\n",
      "30.404867 20.592000000000002\n",
      "36.750694 27.032999999999998\n",
      "28.742266 43.580500000000015\n",
      "41.463776 46.836\n",
      "45.47876 47.01249999999999\n",
      "40.18811 38.61000000000001\n",
      "31.433908 37.630500000000005\n",
      "28.193516 27.198500000000003\n",
      "27.602102 26.8965\n",
      "25.99846 45.429500000000004\n",
      "41.957775 54.54550000000001\n",
      "43.51003 55.2705\n",
      "41.850655 37.714\n",
      "36.061287 32.517500000000005\n",
      "28.811722 26.152499999999996\n",
      "27.015633 25.573500000000003\n",
      "27.83589 34.56249999999999\n",
      "32.91427 35.44800000000001\n",
      "33.785965 35.41199999999999\n",
      "32.279053 35.053999999999995\n",
      "32.50268 36.8225\n",
      "31.38595 26.056499999999993\n",
      "25.256863 26.7205\n",
      "29.802948 27.891500000000004\n",
      "29.747019 17.358000000000004\n",
      "38.884518 32.021499999999996\n",
      "34.591743 37.89500000000001\n",
      "36.974754 35.9715\n",
      "39.222992 30.163499999999992\n",
      "30.882431 31.514\n",
      "36.447243 45.901999999999994\n",
      "40.631126 53.62199999999999\n",
      "44.43365 59.165000000000006\n",
      "49.850567 58.066\n",
      "45.241386 45.369499999999995\n",
      "37.374832 30.5245\n",
      "27.372066 28.7325\n",
      "31.383644 47.337\n",
      "45.84033 53.92050000000001\n",
      "47.255928 52.3425\n",
      "46.191753 48.356500000000004\n",
      "42.868603 40.4115\n",
      "34.194206 29.613500000000002\n",
      "31.73462 32.311\n",
      "33.98368 55.496500000000005\n",
      "46.883423 21.273999999999994\n",
      "41.377605 51.138999999999996\n",
      "45.39864 52.10399999999999\n",
      "47.42383 52.301\n",
      "48.572044 39.34\n",
      "33.48426 41.3415\n",
      "37.400368 57.3695\n",
      "48.850697 54.480500000000006\n",
      "45.347023 54.18900000000001\n",
      "45.582867 53.853500000000004\n",
      "48.400837 47.79450000000001\n",
      "48.63139 56.6065\n",
      "67.055885 65.58099999999999\n",
      "71.69738 59.721\n",
      "63.310158 43.56\n",
      "54.702065 54.39850000000001\n",
      "57.01599 50.5675\n",
      "44.894722 38.78099999999999\n",
      "32.54846 21.485500000000002\n",
      "22.313753 16.295\n",
      "25.626472 51.8355\n",
      "49.649418 51.278999999999996\n",
      "47.06095 47.265499999999996\n",
      "36.083427 33.737\n",
      "29.590055 26.134000000000004\n",
      "24.065832 23.9065\n",
      "24.243408 17.168\n",
      "30.421598 61.94700000000001\n",
      "47.589317 25.366000000000007\n",
      "49.015575 53.54650000000001\n",
      "46.16613 50.48349999999999\n",
      "46.53302 53.04200000000001\n",
      "40.5585 33.3485\n",
      "34.532963 36.8\n",
      "40.90867 53.6095\n",
      "58.603264 56.34199999999999\n",
      "45.069798 46.69400000000001\n",
      "41.928677 52.0595\n",
      "45.948994 53.98349999999999\n",
      "39.27831 25.870999999999995\n",
      "31.577972 24.716\n",
      "33.761333 46.7885\n",
      "43.807358 47.128\n",
      "45.903122 44.996\n",
      "42.139843 47.446000000000005\n",
      "42.328625 35.356500000000004\n",
      "35.146088 17.784\n",
      "23.652767 18.700999999999997\n",
      "34.370396 45.20799999999999\n",
      "50.829216 47.080000000000005\n",
      "47.56588 38.965500000000006\n",
      "35.63472 44.26400000000001\n",
      "36.34183 31.230500000000006\n",
      "31.664614 21.552499999999995\n",
      "28.507925 17.837\n",
      "32.447742 36.7765\n",
      "43.891136 32.316\n",
      "39.77268 56.37050000000001\n",
      "54.414272 58.464499999999994\n",
      "62.37753 51.9835\n",
      "36.042446 32.216\n",
      "35.275234 33.98049999999999\n",
      "49.991493 70.77449999999999\n",
      "69.666115 62.685\n",
      "52.714264 50.839\n",
      "48.417 50.964\n",
      "54.57471 44.178999999999995\n",
      "36.939083 30.511999999999997\n",
      "35.091213 33.572\n",
      "48.180134 26.246000000000006\n",
      "66.09421 67.763\n",
      "76.65394 69.39999999999999\n",
      "73.060646 74.19\n",
      "73.89066 64.3395\n",
      "44.1416 24.7045\n",
      "35.73462 34.378\n",
      "56.08091 113.23599999999999\n",
      "115.31198 109.9425\n",
      "104.23007 102.75099999999999\n",
      "93.44365 95.614\n",
      "79.1028 73.29500000000002\n",
      "40.735905 26.686000000000007\n",
      "59.912827 60.7275\n",
      "53.75843 90.1225\n",
      "81.07694 79.6125\n",
      "92.51152 88.843\n",
      "84.17861 95.8615\n",
      "75.25703 102.23150000000001\n",
      "79.73793 71.657\n",
      "69.98429 65.676\n",
      "86.22657 126.66749999999999\n",
      "125.52872 120.88799999999999\n",
      "116.42054 109.47749999999998\n",
      "111.15221 109.527\n",
      "115.98138 120.88600000000001\n",
      "74.68806 72.571\n",
      "91.70809 90.74599999999998\n",
      "145.22969 134.7855\n",
      "146.37434 125.18549999999999\n",
      "106.8005 113.14950000000002\n",
      "111.47039 102.19800000000001\n",
      "113.44668 108.56249999999999\n",
      "80.196 84.8235\n",
      "101.20348 110.4535\n",
      "96.76407 85.08649999999999\n",
      "61.272377 70.648\n",
      "72.610054 72.9465\n",
      "63.439274 70.63899999999998\n",
      "63.415684 67.134\n",
      "70.00575 58.204499999999996\n",
      "57.207943 54.434\n",
      "69.97756 67.15650000000001\n",
      "78.039604 77.60799999999998\n",
      "64.94329 63.688500000000005\n",
      "54.40602 48.28999999999999\n",
      "87.61524 80.276\n",
      "58.413345 59.13\n",
      "62.160633 59.287499999999994\n",
      "70.70618 76.06700000000001\n",
      "80.635345 88.94250000000001\n",
      "74.11691 75.81700000000001\n",
      "61.03528 73.10549999999999\n",
      "64.62332 74.537\n",
      "62.59164 55.411500000000004\n",
      "62.11182 59.209500000000006\n",
      "93.991394 93.51\n",
      "95.723366 93.92\n",
      "74.64682 78.16099999999999\n",
      "78.05485 77.8585\n",
      "71.13098 50.24799999999999\n",
      "60.933674 53.50249999999999\n",
      "55.75878 62.632999999999996\n",
      "102.920715 104.55300000000001\n",
      "102.833885 102.49100000000003\n",
      "97.75224 98.30099999999999\n",
      "102.58125 111.86850000000003\n",
      "95.10026 95.85650000000001\n",
      "75.33176 76.12699999999998\n",
      "96.132996 99.5735\n",
      "101.25633 106.843\n",
      "113.22155 110.58150000000002\n",
      "107.83004 110.056\n",
      "116.8898 117.614\n",
      "100.28369 88.4515\n",
      "74.001625 80.83499999999998\n",
      "87.26646 91.374\n",
      "114.72747 116.56050000000002\n",
      "96.50033 97.01550000000002\n",
      "87.9956 92.15050000000001\n",
      "73.908966 89.1675\n",
      "68.645515 53.57\n",
      "62.050068 58.6805\n",
      "54.30395 58.311499999999995\n",
      "83.23959 100.34049999999998\n",
      "100.24594 104.63649999999998\n",
      "99.52896 103.28599999999997\n",
      "92.20442 91.2175\n",
      "76.231316 90.4535\n",
      "49.457912 51.239500000000014\n",
      "47.06687 54.526500000000006\n",
      "65.90109 100.088\n",
      "86.94035 88.36349999999999\n",
      "79.34334 91.09899999999999\n",
      "82.37752 79.1275\n",
      "65.723976 78.18950000000001\n",
      "58.768257 62.453\n",
      "61.135227 62.86600000000001\n",
      "82.25589 87.0965\n",
      "90.42201 82.60649999999997\n",
      "72.23064 78.0925\n",
      "61.899353 48.77400000000002\n",
      "77.54818 83.333\n",
      "60.660763 64.64250000000001\n",
      "81.310356 94.26\n",
      "111.27145 109.6155\n",
      "111.48497 114.67899999999999\n",
      "105.59724 112.34999999999998\n",
      "97.11086 105.12950000000001\n",
      "83.27762 81.21650000000001\n",
      "53.35543 58.3575\n",
      "55.06022 64.289\n",
      "72.708336 95.23999999999998\n",
      "86.356995 86.175\n",
      "75.47686 72.2715\n",
      "67.631454 65.815\n",
      "48.79089 38.544\n",
      "67.987915 63.5135\n",
      "62.012703 56.064000000000014\n",
      "69.81703 80.85900000000001\n",
      "81.19205 86.765\n",
      "84.73394 94.1955\n",
      "72.55734 76.165\n",
      "60.050175 71.134\n",
      "57.019596 50.12100000000001\n",
      "53.62065 48.406\n",
      "74.63237 79.33200000000001\n",
      "66.421715 62.76599999999999\n",
      "47.169598 46.88750000000001\n",
      "45.174915 39.434499999999986\n",
      "38.26093 34.314\n",
      "38.46463 26.612000000000002\n",
      "28.966122 27.5215\n",
      "58.954205 62.0265\n",
      "60.540813 62.436499999999995\n",
      "49.274883 55.381\n",
      "44.13151 48.755\n",
      "48.267475 49.3155\n",
      "39.855305 36.5205\n",
      "25.119053 23.826\n",
      "77.247025 81.346\n",
      "72.08748 71.075\n",
      "52.36992 62.35699999999999\n",
      "61.10436 59.575500000000005\n",
      "55.61988 61.0385\n",
      "45.403507 50.165\n",
      "44.871895 46.84350000000001\n",
      "52.33717 42.995999999999995\n",
      "65.91653 67.565\n",
      "66.35177 40.43599999999999\n",
      "60.521984 56.384\n",
      "66.926414 65.23099999999998\n",
      "60.41196 61.37199999999999\n",
      "52.30783 54.61850000000001\n",
      "60.233055 69.09400000000001\n",
      "71.48572 58.98200000000001\n",
      "53.259285 54.893499999999996\n",
      "61.95262 68.363\n",
      "73.81936 77.72899999999998\n",
      "58.287357 61.57950000000001\n",
      "53.501427 51.61999999999998\n",
      "81.23033 87.32600000000001\n",
      "82.59542 83.131\n",
      "59.87251 56.418499999999995\n",
      "38.98982 35.546499999999995\n",
      "34.27451 22.229499999999998\n",
      "21.991009 24.604499999999998\n",
      "27.560568 21.012\n",
      "32.167217 18.743999999999993\n",
      "41.410442 63.05949999999999\n",
      "48.4317 52.316\n",
      "43.57798 40.590999999999994\n",
      "30.906084 34.505\n",
      "36.78186 28.6325\n",
      "33.6942 35.186\n",
      "47.787422 31.426\n",
      "46.663013 60.5365\n",
      "54.62224 57.580499999999994\n",
      "48.340145 46.645\n",
      "46.856384 50.59200000000001\n",
      "50.078484 41.066\n",
      "42.053974 35.704499999999996\n",
      "51.426636 53.94800000000001\n",
      "63.4682 51.19199999999999\n",
      "43.67514 48.31099999999999\n",
      "38.62403 37.2915\n",
      "41.754345 51.27000000000001\n",
      "42.9039 39.044500000000006\n",
      "42.22703 39.73200000000001\n",
      "51.36438 35.86899999999999\n",
      "37.43289 36.452999999999996\n",
      "38.98677 52.67600000000001\n",
      "43.038597 39.943\n",
      "37.320942 39.818\n",
      "26.9334 30.215\n",
      "26.88356 28.526999999999997\n",
      "31.170544 33.921499999999995\n",
      "40.81839 29.567999999999994\n",
      "45.295757 28.648500000000002\n",
      "29.624514 22.310999999999996\n",
      "24.037754 21.086499999999997\n",
      "19.286575 15.944500000000001\n",
      "14.49332 12.756\n",
      "20.438013 23.213499999999996\n",
      "30.809248 28.859499999999993\n",
      "33.25821 13.838000000000003\n",
      "31.046381 20.390499999999996\n",
      "21.222082 20.836499999999997\n",
      "26.456848 15.948500000000001\n",
      "18.472607 11.943000000000003\n",
      "22.044382 29.059999999999995\n",
      "34.67055 35.386\n",
      "36.516613 33.0295\n",
      "30.931576 28.727499999999996\n",
      "27.553982 33.457\n",
      "31.499443 18.598499999999998\n",
      "20.976398 18.558500000000006\n",
      "22.728905 34.79750000000001\n",
      "34.990566 36.397000000000006\n",
      "31.394094 24.701500000000006\n",
      "26.33891 28.060500000000005\n",
      "24.855783 26.0415\n",
      "21.632736 14.872500000000002\n",
      "17.564014 18.9575\n",
      "21.93466 32.5995\n",
      "36.99039 37.43\n",
      "35.045197 31.758999999999997\n",
      "29.17245 26.832500000000003\n",
      "22.359945 17.7905\n",
      "14.508701 14.108999999999998\n",
      "12.559802 12.032499999999999\n",
      "16.742823 26.327499999999997\n",
      "26.25436 31.553500000000003\n",
      "30.995523 31.335\n",
      "24.8172 28.4015\n",
      "22.180595 15.761499999999998\n",
      "15.890041 18.433500000000002\n",
      "18.258083 15.765500000000003\n",
      "25.053074 29.31200000000001\n",
      "30.590904 38.78849999999999\n",
      "30.531847 34.045\n",
      "29.97359 30.684\n",
      "24.405514 16.6995\n",
      "13.170265 2.7375\n",
      "9.512661 0.0\n",
      "14.577127 18.681\n",
      "23.96839 28.779500000000002\n",
      "28.266344 48.389499999999984\n",
      "43.724888 54.57950000000001\n",
      "51.374058 53.496500000000005\n",
      "44.43672 39.523\n",
      "37.449482 39.570499999999996\n",
      "35.83289 33.96799999999999\n",
      "50.85069 52.8105\n",
      "57.08898 50.756\n",
      "49.34414 49.08049999999999\n",
      "42.741695 47.477500000000006\n",
      "36.802933 34.076499999999996\n",
      "34.91153 37.652\n",
      "45.44053 46.73850000000001\n",
      "52.476505 49.4085\n",
      "51.653957 56.00099999999998\n",
      "51.05742 58.023\n",
      "47.29329 42.545\n",
      "38.344593 34.785\n",
      "34.046978 38.9475\n",
      "43.327526 36.4605\n",
      "39.5794 25.099499999999995\n",
      "24.515108 25.8455\n",
      "22.479246 20.779999999999998\n",
      "23.809093 22.925000000000004\n",
      "22.831863 16.404500000000002\n",
      "15.979299 15.764500000000004\n",
      "21.807793 18.665499999999998\n",
      "28.30806 19.223000000000003\n",
      "23.842382 26.331000000000003\n",
      "32.689335 26.963500000000003\n",
      "26.244032 28.6495\n",
      "27.476639 20.1495\n",
      "20.939533 20.645999999999997\n",
      "28.194702 30.882000000000005\n",
      "32.48462 32.759499999999996\n",
      "32.50785 33.899\n",
      "31.128832 30.78\n",
      "24.900124 21.0825\n",
      "20.662735 19.5325\n",
      "20.615705 18.9845\n",
      "28.066229 25.803\n",
      "36.958538 29.641499999999997\n",
      "28.462393 21.804000000000002\n",
      "23.480776 24.415999999999997\n",
      "22.444378 25.025500000000005\n",
      "22.312231 16.4475\n",
      "20.925432 17.8005\n",
      "24.98172 28.725\n",
      "32.008873 33.376\n",
      "33.407883 17.82\n",
      "30.206593 37.117\n",
      "28.209492 35.459999999999994\n",
      "28.198605 21.838500000000003\n",
      "21.127668 22.141499999999997\n",
      "23.593584 37.298500000000004\n",
      "34.671036 37.14\n",
      "32.087658 31.16700000000001\n",
      "28.666286 18.348000000000003\n",
      "34.500526 23.471999999999998\n",
      "23.462086 16.308999999999997\n",
      "23.17615 16.6635\n",
      "26.103418 25.080499999999997\n",
      "32.32019 28.236000000000004\n",
      "30.55135 25.923000000000005\n",
      "23.18048 20.901500000000002\n",
      "21.411352 21.1175\n",
      "21.221342 15.790499999999998\n",
      "21.77471 15.01\n",
      "23.277603 14.036000000000005\n",
      "41.20036 25.106999999999992\n",
      "28.569996 27.948999999999998\n",
      "28.406162 25.1305\n",
      "24.483337 21.264499999999998\n",
      "22.11781 15.0735\n",
      "21.714972 14.861500000000003\n",
      "21.171682 28.111000000000004\n",
      "33.88235 25.275000000000006\n",
      "28.433739 23.958499999999997\n",
      "26.293814 23.502\n",
      "27.61285 28.569499999999998\n",
      "26.217705 24.374499999999998\n",
      "23.108644 23.826\n",
      "41.066814 27.838999999999995\n",
      "28.576889 28.243999999999993\n",
      "27.219683 27.1125\n",
      "25.382801 26.824999999999996\n",
      "23.069845 17.791500000000003\n",
      "19.448898 16.721\n",
      "19.651712 18.9255\n",
      "34.3328 70.44099999999999\n",
      "56.99836 34.60600000000001\n",
      "54.10797 38.113\n",
      "32.44811 35.55\n",
      "40.51892 31.9245\n",
      "39.509666 31.8025\n",
      "38.80166 31.081499999999995\n",
      "46.14426 60.623\n",
      "53.800842 55.15\n",
      "46.090218 51.958499999999994\n",
      "47.1263 51.82650000000001\n",
      "53.795486 52.57249999999999\n",
      "46.66142 46.70799999999999\n",
      "47.59181 46.17349999999999\n",
      "61.636738 66.68949999999998\n",
      "69.84535 62.102000000000004\n",
      "54.622124 56.958\n",
      "63.52548 70.7145\n",
      "67.64428 64.1885\n",
      "45.152058 37.185\n",
      "31.561043 28.358999999999998\n",
      "63.684666 56.87850000000001\n",
      "63.35853 54.186499999999995\n",
      "49.114372 52.331999999999994\n",
      "47.294044 49.892999999999994\n",
      "54.36593 60.07699999999998\n",
      "40.966293 54.221999999999994\n",
      "43.409477 51.25900000000001\n",
      "61.77069 64.88199999999999\n",
      "55.33788 40.39200000000001\n",
      "70.502045 60.80500000000001\n",
      "45.42249 53.6475\n",
      "48.398403 50.2175\n",
      "33.694836 33.873000000000005\n",
      "25.95472 32.56250000000001\n",
      "32.12553 17.753999999999998\n",
      "59.87735 77.40999999999998\n",
      "75.290184 77.999\n",
      "64.36919 81.73300000000002\n",
      "61.53112 77.55449999999999\n",
      "77.475334 85.86200000000001\n",
      "91.45436 91.717\n",
      "101.475716 105.32900000000001\n",
      "87.63409 84.48500000000001\n",
      "84.12179 88.99600000000002\n",
      "76.7995 97.34750000000001\n",
      "93.670975 90.05949999999999\n",
      "90.93325 88.05149999999999\n",
      "105.366875 106.01700000000001\n",
      "120.290245 115.33250000000001\n",
      "88.19097 98.66449999999999\n",
      "95.6137 96.68700000000003\n",
      "106.06569 110.54549999999998\n",
      "86.93937 77.247\n",
      "82.13722 71.91650000000001\n",
      "67.27826 74.39399999999999\n",
      "88.48414 84.156\n",
      "82.46083 73.4465\n",
      "79.082184 80.3215\n",
      "85.72843 87.93499999999999\n",
      "63.18352 63.1935\n",
      "52.744053 56.355\n",
      "46.28559 70.37550000000002\n",
      "73.06691 104.08899999999998\n",
      "102.15666 100.86500000000001\n",
      "67.341354 75.66299999999998\n",
      "62.787933 68.00450000000001\n",
      "58.20109 65.1605\n",
      "59.188652 73.45300000000002\n",
      "55.36033 68.041\n",
      "65.84074 63.266\n",
      "65.47316 59.47850000000001\n",
      "61.34589 64.395\n",
      "65.7826 71.2555\n",
      "66.57979 67.7715\n",
      "63.652237 58.11099999999999\n",
      "66.20638 63.33\n"
     ]
    }
   ],
   "source": [
    "for i in range (len(predicted_kw_zone2)):\n",
    "  print(predicted_kw_zone2[i], target[i])"
   ]
  },
  {
   "cell_type": "code",
   "execution_count": 30,
   "metadata": {},
   "outputs": [
    {
     "data": {
      "image/png": "[encoded data removed]",
      "text/plain": [
       "<Figure size 640x480 with 1 Axes>"
      ]
     },
     "metadata": {},
     "output_type": "display_data"
    }
   ],
   "source": [
    "# Plotting\n",
    "plt.plot(predicted_kw_zone2_test[::3], 'o-', label='Predicted')\n",
    "plt.plot(test_target[::3], 'o-', label='Target')\n",
    "plt.xlabel('Time')\n",
    "plt.ylabel('Values')\n",
    "plt.title('Comparison of Predicted and Target Values')\n",
    "plt.legend()\n",
    "plt.show()"
   ]
  },
  {
   "cell_type": "code",
   "execution_count": 33,
   "metadata": {},
   "outputs": [
    {
     "name": "stdout",
     "output_type": "stream",
     "text": [
      "0.11864488107758704\n"
     ]
    }
   ],
   "source": [
    "def relative_squared_error(y_pred, y_true):\n",
    "    \"\"\"Relative squared error (RSE; also called relative mean square error). < 1 is good, = 1 is bad, > 1 really bad.\"\"\"\n",
    "    return np.mean((y_pred - y_true)**2)/np.mean((y_true - y_true.mean())**2)\n",
    "\n",
    "print(relative_squared_error(predicted_kw_zone2, target))"
   ]
  },
  {
   "cell_type": "code",
   "execution_count": 48,
   "metadata": {},
   "outputs": [
    {
     "name": "stdout",
     "output_type": "stream",
     "text": [
      "63\n"
     ]
    }
   ],
   "source": [
    "# Calculate absolute difference or squared difference\n",
    "absolute_diff = np.abs(predicted_kw_zone2 - target)\n",
    "# Or squared_diff = (y_true - y_pred)**2\n",
    "\n",
    "# Set a threshold \n",
    "threshold = 20  # Example threshold\n",
    "\n",
    "# Find indices where the difference exceeds the threshold\n",
    "far_away_indices = np.where(absolute_diff > threshold)[0]\n",
    "\n",
    "\n",
    "far_away_in_test = np.intersect1d(far_away_indices, indices_test)\n",
    "print(len(far_away_in_test))"
   ]
  },
  {
   "cell_type": "code",
   "execution_count": 51,
   "metadata": {},
   "outputs": [
    {
     "data": {
      "image/png": "[encoded data removed]",
      "text/plain": [
       "<Figure size 640x480 with 1 Axes>"
      ]
     },
     "metadata": {},
     "output_type": "display_data"
    }
   ],
   "source": [
    "# Plot the histogram of absolute differences\n",
    "plt.hist(absolute_diff, bins=50, edgecolor='black')\n",
    "plt.xlabel('Absolute Difference')\n",
    "plt.ylabel('Frequency')\n",
    "plt.title('Histogram of Absolute Differences')\n",
    "plt.xticks(np.arange(0, max(absolute_diff), 5))\n",
    "plt.yticks(np.arange(0, 150, 5))\n",
    "plt.show()"
   ]
  }
 ],
 "metadata": {
  "kernelspec": {
   "display_name": "Python 3",
   "language": "python",
   "name": "python3"
  },
  "language_info": {
   "codemirror_mode": {
    "name": "ipython",
    "version": 3
   },
   "file_extension": ".py",
   "mimetype": "text/x-python",
   "name": "python",
   "nbconvert_exporter": "python",
   "pygments_lexer": "ipython3",
   "version": "3.9.13"
  }
 },
 "nbformat": 4,
 "nbformat_minor": 2
}
