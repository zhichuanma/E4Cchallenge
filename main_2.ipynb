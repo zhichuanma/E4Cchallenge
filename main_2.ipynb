{
 "cells": [
  {
   "cell_type": "code",
   "execution_count": 1,
   "metadata": {},
   "outputs": [
    {
     "ename": "ModuleNotFoundError",
     "evalue": "No module named 'pandas'",
     "output_type": "error",
     "traceback": [
      "\u001b[0;31m---------------------------------------------------------------------------\u001b[0m",
      "\u001b[0;31mModuleNotFoundError\u001b[0m                       Traceback (most recent call last)",
      "Cell \u001b[0;32mIn[1], line 1\u001b[0m\n\u001b[0;32m----> 1\u001b[0m \u001b[38;5;28;01mimport\u001b[39;00m \u001b[38;5;21;01mpandas\u001b[39;00m \u001b[38;5;28;01mas\u001b[39;00m \u001b[38;5;21;01mpd\u001b[39;00m\n\u001b[1;32m      2\u001b[0m \u001b[38;5;28;01mimport\u001b[39;00m \u001b[38;5;21;01mmatplotlib\u001b[39;00m\u001b[38;5;21;01m.\u001b[39;00m\u001b[38;5;21;01mpyplot\u001b[39;00m \u001b[38;5;28;01mas\u001b[39;00m \u001b[38;5;21;01mplt\u001b[39;00m\n\u001b[1;32m      3\u001b[0m \u001b[38;5;28;01mimport\u001b[39;00m \u001b[38;5;21;01mnumpy\u001b[39;00m \u001b[38;5;28;01mas\u001b[39;00m \u001b[38;5;21;01mnp\u001b[39;00m\n",
      "\u001b[0;31mModuleNotFoundError\u001b[0m: No module named 'pandas'"
     ]
    }
   ],
   "source": [
    "import pandas as pd\n",
    "import matplotlib.pyplot as plt\n",
    "import numpy as np\n",
    "from skl2onnx import to_onnx\n",
    "from onnxruntime import InferenceSession\n",
    "%matplotlib inline"
   ]
  },
  {
   "cell_type": "code",
   "execution_count": null,
   "metadata": {},
   "outputs": [],
   "source": [
    "# Load the data\n",
    "data_path = \"filled_data.csv\"\n",
    "data = pd.read_csv(data_path)\n",
    "\n",
    "# Extract the relevant columns\n",
    "datetime_column = pd.to_datetime(data['datetime'])\n",
    "# Get all feature columns except 'datetime'\n",
    "feature_columns = data.columns[1:]  # Exclude the 'datetime' column\n",
    "from challenge_utils import build_training_data"
   ]
  },
  {
   "cell_type": "markdown",
   "metadata": {},
   "source": [
    "# Data Exploration"
   ]
  },
  {
   "cell_type": "code",
   "execution_count": null,
   "metadata": {},
   "outputs": [],
   "source": [
    "print(data.shape)\n",
    "data.head()"
   ]
  },
  {
   "cell_type": "code",
   "execution_count": null,
   "metadata": {},
   "outputs": [],
   "source": [
    "cor_matrix = data.corr()\n",
    "# cor_matrix\n",
    "col = \"kw_total_zone2\"\n",
    "sort_col_matrix = cor_matrix.sort_values(col, ascending=False)[col]\n",
    "selected_feature = [x for x in sort_col_matrix.index if abs(sort_col_matrix[x]) > 0.2 and x != col]\n",
    "# print(sort_col_matrix)\n",
    "print(sort_col_matrix[selected_feature])"
   ]
  },
  {
   "cell_type": "code",
   "execution_count": null,
   "metadata": {},
   "outputs": [],
   "source": [
    "day_start = 100\n",
    "kw_zone2 = data[\"kw_total_zone2\"][24*day_start:24*(day_start + 7)]\n",
    "import matplotlib.pyplot as plt \n",
    "plt.plot(range(len(kw_zone2)), kw_zone2, label=\"kw_zone2_hourly\")\n",
    "# plt.figure(figsize=(20, 10))"
   ]
  },
  {
   "cell_type": "code",
   "execution_count": null,
   "metadata": {},
   "outputs": [],
   "source": [
    "feature_zone_2 = [x for x in selected_feature if \"zone1\" not in x]\n",
    "print(feature_zone_2)\n",
    "features = [\"plugs_zone2\", \"kw_ventilation_zone2\", \"kw_water_heater_zone2\", \"kw_lights_zone2\", \"kw_heaters_toilets_zone2\", \"kw_heaters_corridor_zone2\", \"kw_heatingcoolingtotal_zone2\", \"kw_total_zone2\"]"
   ]
  },
  {
   "cell_type": "code",
   "execution_count": null,
   "metadata": {},
   "outputs": [],
   "source": [
    "fig, ax = plt.subplots(1, 1, figsize=(12, 6), dpi=200)\n",
    "\n",
    "time = data['datetime'].astype(np.datetime64).values.astype('datetime64[s]')\n",
    "\n",
    "# slicing out a few months of data\n",
    "start = 500\n",
    "some = slice(start, start + 1000)\n",
    "\n",
    "for col in data.columns[1::]:\n",
    "\n",
    "    # only plotting a few variables\n",
    "    if col in features:\n",
    "        ax.plot(time[some], data[col].values[some], label=col)\n",
    "\n",
    "ax.legend()"
   ]
  },
  {
   "cell_type": "markdown",
   "metadata": {},
   "source": [
    "Why are there some negative features? How can the consumption be negative? \\\\\n",
    "Why is there a part of zeros for kw_total_zone2 between 22-02 to 01-03-2022?\n",
    "- Did they shut down the whole building?\n",
    "- The measure doesn't working?\n",
    "- They took out the data?"
   ]
  },
  {
   "cell_type": "code",
   "execution_count": null,
   "metadata": {},
   "outputs": [],
   "source": []
  },
  {
   "cell_type": "code",
   "execution_count": null,
   "metadata": {},
   "outputs": [],
   "source": []
  },
  {
   "cell_type": "code",
   "execution_count": null,
   "metadata": {},
   "outputs": [],
   "source": [
    "pd.set_option('display.max_rows', df.shape[0])\n",
    "data[\"kw_total_zone2\"][data[\"kw_total_zone2\"] == 0]"
   ]
  },
  {
   "cell_type": "code",
   "execution_count": null,
   "metadata": {},
   "outputs": [],
   "source": []
  },
  {
   "cell_type": "markdown",
   "metadata": {},
   "source": [
    "## Let's do some training"
   ]
  },
  {
   "cell_type": "code",
   "execution_count": null,
   "metadata": {},
   "outputs": [],
   "source": [
    "from challenge_utils import build_training_data_from_df  "
   ]
  },
  {
   "cell_type": "code",
   "execution_count": null,
   "metadata": {},
   "outputs": [],
   "source": [
    "target_time, target, predictors = build_training_data('filled_data.csv')\n",
    "print(target.shape)\n",
    "print(predictors.shape)"
   ]
  },
  {
   "cell_type": "code",
   "execution_count": null,
   "metadata": {},
   "outputs": [],
   "source": [
    "data[\"kw_total_zone2\"][7*24:15*24]"
   ]
  },
  {
   "cell_type": "code",
   "execution_count": null,
   "metadata": {},
   "outputs": [],
   "source": [
    "def create_target_hourly_zone2(data):\n",
    "    # Exclude the first column (datetime)\n",
    "    input_data = data[\"kw_total_zone2\"]\n",
    "\n",
    "    # Calculate the number of days (excluding the first week)\n",
    "    num_days = 730 - 7  # 730 days with the first 7 days skipped\n",
    "\n",
    "    # Initialize the 3D array: 24 hour, 27 variable\n",
    "    targets = np.zeros((num_days, 24))\n",
    "\n",
    "    # Iterate through each day and extract the data\n",
    "    for day in range(num_days):\n",
    "        start_index = day * 24 + 7 * 24\n",
    "        end_index = start_index + 24\n",
    "        targets[day] = input_data.iloc[start_index:end_index]\n",
    "\n",
    "    return targets # taking the kw_zone 2 to predict\n",
    "\n",
    "hourly_consumption_zone2 = create_target_hourly_zone2(data)\n",
    "print(hourly_consumption_zone2[:10])"
   ]
  },
  {
   "cell_type": "code",
   "execution_count": null,
   "metadata": {},
   "outputs": [],
   "source": [
    "from sklearn.preprocessing import MinMaxScaler\n",
    "\n",
    "# normalize features\n",
    "scaler = MinMaxScaler(feature_range=(0, 1))\n",
    "\n",
    "def scale_data(predictors, targets):\n",
    "    # Reshape the array to (723 * 168, 27) to apply MinMaxScaler\n",
    "    reshaped_predictors = predictors.reshape(-1, 27)\n",
    "\n",
    "    # Fit and transform the data\n",
    "    scaled_predictors = scaler.fit_transform(reshaped_predictors)\n",
    "\n",
    "    # Reshape the scaled data back to the original shape\n",
    "    scaled_predictors = scaled_predictors.reshape(predictors.shape)\n",
    "\n",
    "    reshaped_target = targets.reshape(-1, 1)\n",
    "    scaled_targets = scaler.fit_transform(reshaped_target)\n",
    "    # target = scaler.fit_transform(reshaped_target)\n",
    "    return scaled_predictors, scaled_targets\n",
    "\n",
    "scaled_predictors, scaled_targets = scale_data(predictors, hourly_consumption_zone2)"
   ]
  },
  {
   "cell_type": "code",
   "execution_count": null,
   "metadata": {},
   "outputs": [],
   "source": [
    "print(scaled_predictors.shape, scaled_targets.shape)"
   ]
  },
  {
   "cell_type": "code",
   "execution_count": null,
   "metadata": {},
   "outputs": [],
   "source": [
    "from tensorflow.keras.models import Sequential\n",
    "from tensorflow.keras.layers import LSTM, Dense\n",
    "from tensorflow.keras.layers import Lambda\n",
    "import tensorflow.keras.backend as K"
   ]
  },
  {
   "cell_type": "code",
   "execution_count": null,
   "metadata": {},
   "outputs": [],
   "source": []
  },
  {
   "cell_type": "markdown",
   "metadata": {},
   "source": [
    "# TODO\n",
    "\n",
    "- Try model with feature selection and feature engineering\n",
    "    - Try fewer features with high correlation\n",
    "    - Try constructing new features from 26 params\n",
    "- Try extrapolate the kw_total_zone2 with periodic fitter because there are zeros in the data.\n",
    "- Benchmark LSTM model with regression models like linear reg and decision tree with XGBoost"
   ]
  },
  {
   "cell_type": "markdown",
   "metadata": {},
   "source": []
  }
 ],
 "metadata": {
  "kernelspec": {
   "display_name": "base",
   "language": "python",
   "name": "python3"
  },
  "language_info": {
   "codemirror_mode": {
    "name": "ipython",
    "version": 3
   },
   "file_extension": ".py",
   "mimetype": "text/x-python",
   "name": "python",
   "nbconvert_exporter": "python",
   "pygments_lexer": "ipython3",
   "version": "3.12.1"
  }
 },
 "nbformat": 4,
 "nbformat_minor": 2
}
