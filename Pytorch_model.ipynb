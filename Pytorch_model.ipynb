{
 "cells": [
  {
   "cell_type": "code",
   "execution_count": 1,
   "metadata": {},
   "outputs": [],
   "source": [
    "import pandas as pd\n",
    "import matplotlib.pyplot as plt\n",
    "import numpy as np\n",
    "from skl2onnx import to_onnx\n",
    "from onnxruntime import InferenceSession\n",
    "%matplotlib inline"
   ]
  },
  {
   "cell_type": "code",
   "execution_count": 2,
   "metadata": {},
   "outputs": [],
   "source": [
    "# Load the data\n",
    "data_path = \"filled_data.csv\"\n",
    "data = pd.read_csv(data_path)\n",
    "\n",
    "# Extract the relevant columns\n",
    "datetime_column = pd.to_datetime(data['datetime'])\n",
    "# Get all feature columns except 'datetime'\n",
    "feature_columns = data.columns[1:]  # Exclude the 'datetime' column\n",
    "\n"
   ]
  },
  {
   "cell_type": "code",
   "execution_count": 3,
   "metadata": {},
   "outputs": [],
   "source": [
    "def build_training_data(hourly_data_path):\n",
    "    \"\"\"Build training data from hourly data function. Skips NaN'd days.\"\"\"\n",
    "\n",
    "    hourly_data = pd.read_csv(hourly_data_path)\n",
    "    \n",
    "    print('Loaded hourly data')\n",
    "\n",
    "    # integrated power consumption\n",
    "\n",
    "    dec = [] # daily energy consumption\n",
    "    t_dec = []\n",
    "\n",
    "    time = pd.to_datetime(hourly_data['datetime']).dt.strftime('%Y-%m-%dT%H:%M:%S').values.astype('datetime64[s]')\n",
    "\n",
    "    \n",
    "    power_consumption = hourly_data['kw_total_zone2'].values\n",
    "\n",
    "    for ti, t in enumerate(time):\n",
    "        tmp_t = pd.Timestamp(t)\n",
    "\n",
    "        if np.isclose(tmp_t.hour, 0) and np.isclose(tmp_t.minute, 0):\n",
    "\n",
    "            day_end = np.datetime64(tmp_t + pd.Timedelta(days=1))\n",
    "            ind = np.where((tmp_t < time) & (time < day_end), True, False)\n",
    "\n",
    "            if len(time[ind]) > 0 and not np.isnan(power_consumption[ind]).any():\n",
    "                t_dec.append(np.datetime64(tmp_t).astype('datetime64[s]'))\n",
    "                dec.append(np.trapz(power_consumption[ind], time[ind].astype(int))/3600) # integrated kW to kJ then to kWh\n",
    "\n",
    "    # time series of daily energy consumption\n",
    "    t_dec = np.array(t_dec)\n",
    "    dec = np.array(dec)\n",
    "\n",
    "    print('Calculated daily energy consumption')\n",
    "\n",
    "    # seperating predictors\n",
    "\n",
    "    N = 7 # N days of predictors beforehand\n",
    "    final_ind = []\n",
    "    final_hourly = []\n",
    "\n",
    "    predictor_window = pd.Timedelta(days=N)\n",
    "\n",
    "    for ti, t in enumerate(t_dec):\n",
    "        tmp_t = pd.Timestamp(t)\n",
    "        ind = np.where((tmp_t - predictor_window <= time) & (time < tmp_t), True, False) # finding indices within the N prior days\n",
    "\n",
    "        bad_ind = np.isnan(hourly_data.iloc[ind, 1::].values)\n",
    "        if len(time[ind]) >= 24 * N and not bad_ind.any(): # rejecting any data with NaNs; useful for the student dataset\n",
    "            final_ind.append(ti)\n",
    "            final_hourly.append(hourly_data.iloc[ind, 1::].values) # dropping datetime column\n",
    "\n",
    "    # getting targets and predictors\n",
    "    target_time = t_dec[final_ind]\n",
    "    targets = dec[final_ind]\n",
    "    predictors = np.array(final_hourly)\n",
    "\n",
    "    print('Calculated predictor window')\n",
    "\n",
    "    return target_time, targets, predictors\n"
   ]
  },
  {
   "cell_type": "code",
   "execution_count": 4,
   "metadata": {},
   "outputs": [
    {
     "data": {
      "text/plain": [
       "(17520, 28)"
      ]
     },
     "execution_count": 4,
     "metadata": {},
     "output_type": "execute_result"
    }
   ],
   "source": [
    "data.shape"
   ]
  },
  {
   "cell_type": "code",
   "execution_count": 5,
   "metadata": {},
   "outputs": [
    {
     "name": "stdout",
     "output_type": "stream",
     "text": [
      "Loaded hourly data\n",
      "Calculated daily energy consumption\n",
      "Calculated predictor window\n",
      "(723,)\n",
      "(723, 168, 27)\n"
     ]
    }
   ],
   "source": [
    "target_time, target, predictors = build_training_data('filled_data.csv')\n",
    "print(target.shape)\n",
    "print(predictors.shape)"
   ]
  },
  {
   "cell_type": "code",
   "execution_count": 6,
   "metadata": {},
   "outputs": [],
   "source": [
    "# Exclude the first column (datetime)\n",
    "input_data = data.iloc[:, 1:]\n",
    "\n",
    "# Calculate the number of days (excluding the first week)\n",
    "num_days = 730 - 7  # 730 days with the first 7 days skipped\n",
    "\n",
    "# Initialize the 3D array\n",
    "targets = np.zeros((num_days, 24, input_data.shape[1]))\n",
    "\n",
    "# Iterate through each day and extract the data\n",
    "for day in range(num_days):\n",
    "    start_index = day * 24 + 7 * 24\n",
    "    end_index = start_index + 24\n",
    "    targets[day, :, :] = input_data.iloc[start_index:end_index, :]\n",
    "\n",
    "targets = targets[:, :, 22]\n",
    "\n",
    "\n"
   ]
  },
  {
   "cell_type": "code",
   "execution_count": 7,
   "metadata": {},
   "outputs": [
    {
     "data": {
      "text/plain": [
       "(723,)"
      ]
     },
     "execution_count": 7,
     "metadata": {},
     "output_type": "execute_result"
    }
   ],
   "source": [
    "target.shape"
   ]
  },
  {
   "cell_type": "code",
   "execution_count": 8,
   "metadata": {},
   "outputs": [
    {
     "name": "stdout",
     "output_type": "stream",
     "text": [
      "(723, 168, 27)\n",
      "(723, 24)\n"
     ]
    }
   ],
   "source": [
    "from sklearn.preprocessing import MinMaxScaler\n",
    "\n",
    "# normalize features\n",
    "scaler = MinMaxScaler(feature_range=(0, 1))\n",
    "\n",
    "# Reshape the array to (723 * 168, 27) to apply MinMaxScaler\n",
    "reshaped_predictors = predictors.reshape(-1, 27)\n",
    "\n",
    "# Fit and transform the data\n",
    "scaled_predictors = scaler.fit_transform(reshaped_predictors)\n",
    "\n",
    "# Reshape the scaled data back to the original shape\n",
    "predictors = scaled_predictors.reshape(predictors.shape)\n",
    "\n",
    "\n",
    "reshaped_target = target.reshape(-1, 1)\n",
    "targets = scaler.fit_transform(targets)\n",
    "# target = scaler.fit_transform(reshaped_target)\n",
    "\n",
    "print(predictors.shape)\n",
    "print(targets.shape)\n"
   ]
  },
  {
   "cell_type": "code",
   "execution_count": 9,
   "metadata": {},
   "outputs": [
    {
     "name": "stdout",
     "output_type": "stream",
     "text": [
      "(578, 168, 27) (578, 24) (145, 168, 27) (145, 24)\n"
     ]
    }
   ],
   "source": [
    "from sklearn.model_selection import train_test_split\n",
    "\n",
    "# split_index = int(len(targets) * 0.8)\n",
    "\n",
    "# # Split the vectors into training and testing sets\n",
    "# train_y, test_y = target[:split_index], target[split_index:]\n",
    "# train_X, test_X = predictors[:split_index], predictors[split_index:]\n",
    "\n",
    "train_X, test_X, train_y, test_y, indices_train, indices_test = train_test_split(predictors, targets, np.arange(len(targets)), test_size=0.2, random_state=55)\n",
    "\n",
    "print(train_X.shape, train_y.shape, test_X.shape, test_y.shape)"
   ]
  },
  {
   "cell_type": "code",
   "execution_count": 47,
   "metadata": {},
   "outputs": [
    {
     "data": {
      "text/plain": [
       "array([0.12933231, 0.0894327 , 0.10353798, 0.09147465, 0.08582695,\n",
       "       0.06074694, 0.06393759, 0.08797208, 0.07327911, 0.08935433,\n",
       "       0.10035937, 0.09476929, 0.17362978, 0.13079394, 0.13337023,\n",
       "       0.1610515 , 0.11506849, 0.12425542, 0.09230587, 0.11571109,\n",
       "       0.11367798, 0.13059092, 0.1202011 , 0.11136658])"
      ]
     },
     "execution_count": 47,
     "metadata": {},
     "output_type": "execute_result"
    }
   ],
   "source": [
    "test_y[0]"
   ]
  },
  {
   "cell_type": "code",
   "execution_count": 10,
   "metadata": {},
   "outputs": [
    {
     "data": {
      "text/plain": [
       "145"
      ]
     },
     "execution_count": 10,
     "metadata": {},
     "output_type": "execute_result"
    }
   ],
   "source": [
    "len(indices_test)"
   ]
  },
  {
   "cell_type": "code",
   "execution_count": 11,
   "metadata": {},
   "outputs": [],
   "source": [
    "def relative_squared_error(y_pred, y_true):\n",
    "    \"\"\"Relative squared error (RSE; also called relative mean square error). < 1 is good, = 1 is bad, > 1 really bad.\"\"\"\n",
    "    return K.mean((y_pred - y_true)**2)/K.mean((y_true - K.mean(y_true))**2)"
   ]
  },
  {
   "cell_type": "code",
   "execution_count": 12,
   "metadata": {},
   "outputs": [],
   "source": [
    "import tensorflow as tf\n",
    "from tensorflow.keras.models import Sequential\n",
    "from tensorflow.keras.layers import LSTM, Dense, Lambda, ReLU\n",
    "from tensorflow.keras import activations\n",
    "import tensorflow.keras.backend as K\n",
    "import matplotlib.pyplot as plt"
   ]
  },
  {
   "cell_type": "code",
   "execution_count": 13,
   "metadata": {},
   "outputs": [
    {
     "data": {
      "text/plain": [
       "[(578, 168, 27), (578, 24), (145, 168, 27), (145, 24)]"
      ]
     },
     "execution_count": 13,
     "metadata": {},
     "output_type": "execute_result"
    }
   ],
   "source": [
    "[x.shape for x in [train_X, train_y, test_X, test_y]]"
   ]
  },
  {
   "cell_type": "code",
   "execution_count": 54,
   "metadata": {},
   "outputs": [],
   "source": [
    "# Define the Attention layer\n",
    "class Attention(tf.keras.layers.Layer):\n",
    "    def __init__(self, units):\n",
    "        super(Attention, self).__init__()\n",
    "        self.W = tf.keras.layers.Dense(units)\n",
    "        self.V = tf.keras.layers.Dense(27)\n",
    "\n",
    "    def call(self, inputs):\n",
    "        # Compute attention scores\n",
    "        score = tf.nn.tanh(self.W(inputs))\n",
    "        attention_weights = tf.nn.softmax(self.V(score), axis=1)\n",
    "\n",
    "        # Apply attention weights to input\n",
    "        context_vector = attention_weights * inputs\n",
    "        context_vector = tf.reduce_sum(context_vector, axis=1)\n",
    "\n",
    "        return context_vector"
   ]
  },
  {
   "cell_type": "code",
   "execution_count": 55,
   "metadata": {},
   "outputs": [],
   "source": [
    "\n",
    "\n",
    "# Design Lambda\n",
    "int_layer = Lambda(lambda x: K.sum(x, axis=1))\n",
    "\n",
    "# design network\n",
    "model = Sequential()\n",
    "model.add(LSTM(27, input_shape=(train_X.shape[1], train_X.shape[2]), return_sequences=True))\n",
    "model.add(Attention(27))\n",
    "model.add(Dense(32, activation=activations.relu))\n",
    "model.add(Dense(24))\n",
    "model.compile(loss='mse', optimizer='adam')\n",
    "# fit network\n",
    "\n",
    "\n",
    "\n"
   ]
  },
  {
   "cell_type": "code",
   "execution_count": 56,
   "metadata": {},
   "outputs": [
    {
     "name": "stdout",
     "output_type": "stream",
     "text": [
      "Model: \"sequential_2\"\n",
      "_________________________________________________________________\n",
      " Layer (type)                Output Shape              Param #   \n",
      "=================================================================\n",
      " lstm_2 (LSTM)               (None, 168, 27)           5940      \n",
      "                                                                 \n",
      " attention_2 (Attention)     (None, 27)                1512      \n",
      "                                                                 \n",
      " dense_10 (Dense)            (None, 32)                896       \n",
      "                                                                 \n",
      " dense_11 (Dense)            (None, 24)                792       \n",
      "                                                                 \n",
      "=================================================================\n",
      "Total params: 9,140\n",
      "Trainable params: 9,140\n",
      "Non-trainable params: 0\n",
      "_________________________________________________________________\n"
     ]
    }
   ],
   "source": [
    "model.summary()"
   ]
  },
  {
   "cell_type": "code",
   "execution_count": 58,
   "metadata": {},
   "outputs": [
    {
     "name": "stdout",
     "output_type": "stream",
     "text": [
      "Epoch 1/20\n",
      "289/289 - 14s - loss: 0.0120 - val_loss: 0.0137 - 14s/epoch - 48ms/step\n",
      "Epoch 2/20\n",
      "289/289 - 13s - loss: 0.0116 - val_loss: 0.0135 - 13s/epoch - 44ms/step\n",
      "Epoch 3/20\n",
      "289/289 - 12s - loss: 0.0113 - val_loss: 0.0135 - 12s/epoch - 43ms/step\n",
      "Epoch 4/20\n",
      "289/289 - 12s - loss: 0.0110 - val_loss: 0.0131 - 12s/epoch - 43ms/step\n",
      "Epoch 5/20\n",
      "289/289 - 12s - loss: 0.0106 - val_loss: 0.0127 - 12s/epoch - 43ms/step\n",
      "Epoch 6/20\n",
      "289/289 - 13s - loss: 0.0104 - val_loss: 0.0123 - 13s/epoch - 44ms/step\n",
      "Epoch 7/20\n",
      "289/289 - 12s - loss: 0.0103 - val_loss: 0.0125 - 12s/epoch - 43ms/step\n",
      "Epoch 8/20\n",
      "289/289 - 12s - loss: 0.0101 - val_loss: 0.0121 - 12s/epoch - 43ms/step\n",
      "Epoch 9/20\n",
      "289/289 - 13s - loss: 0.0100 - val_loss: 0.0120 - 13s/epoch - 44ms/step\n",
      "Epoch 10/20\n",
      "289/289 - 12s - loss: 0.0098 - val_loss: 0.0119 - 12s/epoch - 43ms/step\n",
      "Epoch 11/20\n",
      "289/289 - 12s - loss: 0.0096 - val_loss: 0.0120 - 12s/epoch - 43ms/step\n",
      "Epoch 12/20\n",
      "289/289 - 12s - loss: 0.0095 - val_loss: 0.0123 - 12s/epoch - 43ms/step\n",
      "Epoch 13/20\n",
      "289/289 - 12s - loss: 0.0094 - val_loss: 0.0122 - 12s/epoch - 43ms/step\n",
      "Epoch 14/20\n",
      "289/289 - 12s - loss: 0.0092 - val_loss: 0.0120 - 12s/epoch - 43ms/step\n",
      "Epoch 15/20\n",
      "289/289 - 13s - loss: 0.0091 - val_loss: 0.0122 - 13s/epoch - 43ms/step\n",
      "Epoch 16/20\n",
      "289/289 - 13s - loss: 0.0090 - val_loss: 0.0124 - 13s/epoch - 43ms/step\n",
      "Epoch 17/20\n",
      "289/289 - 12s - loss: 0.0103 - val_loss: 0.0126 - 12s/epoch - 43ms/step\n",
      "Epoch 18/20\n",
      "289/289 - 12s - loss: 0.0098 - val_loss: 0.0118 - 12s/epoch - 42ms/step\n",
      "Epoch 19/20\n",
      "289/289 - 12s - loss: 0.0089 - val_loss: 0.0121 - 12s/epoch - 42ms/step\n",
      "Epoch 20/20\n",
      "289/289 - 12s - loss: 0.0090 - val_loss: 0.0123 - 12s/epoch - 42ms/step\n"
     ]
    }
   ],
   "source": [
    "history = model.fit(train_X, train_y, epochs=20, batch_size=2, validation_data=(test_X, test_y), verbose=2, shuffle=False)"
   ]
  },
  {
   "cell_type": "code",
   "execution_count": 82,
   "metadata": {},
   "outputs": [
    {
     "name": "stdout",
     "output_type": "stream",
     "text": [
      "Epoch [1/200], Train Loss: 0.0214, Validation Loss: 0.0394, Validation RSE: 1.0741\n",
      "Epoch [2/200], Train Loss: 0.0319, Validation Loss: 0.0229, Validation RSE: 0.5384\n",
      "Epoch [3/200], Train Loss: 0.0200, Validation Loss: 0.0175, Validation RSE: 0.3663\n",
      "Epoch [4/200], Train Loss: 0.0049, Validation Loss: 0.0171, Validation RSE: 0.3834\n",
      "Epoch [5/200], Train Loss: 0.0136, Validation Loss: 0.0158, Validation RSE: 0.3254\n",
      "Epoch [6/200], Train Loss: 0.0095, Validation Loss: 0.0163, Validation RSE: 0.3332\n",
      "Epoch [7/200], Train Loss: 0.0402, Validation Loss: 0.0156, Validation RSE: 0.3289\n",
      "Epoch [8/200], Train Loss: 0.0105, Validation Loss: 0.0157, Validation RSE: 0.3387\n",
      "Epoch [9/200], Train Loss: 0.0051, Validation Loss: 0.0170, Validation RSE: 0.4225\n",
      "Epoch [10/200], Train Loss: 0.0162, Validation Loss: 0.0157, Validation RSE: 0.3417\n",
      "Epoch [11/200], Train Loss: 0.0281, Validation Loss: 0.0161, Validation RSE: 0.3760\n",
      "Epoch [12/200], Train Loss: 0.0293, Validation Loss: 0.0155, Validation RSE: 0.3123\n",
      "Epoch [13/200], Train Loss: 0.0055, Validation Loss: 0.0154, Validation RSE: 0.3126\n",
      "Epoch [14/200], Train Loss: 0.0175, Validation Loss: 0.0154, Validation RSE: 0.3139\n",
      "Epoch [15/200], Train Loss: 0.0147, Validation Loss: 0.0161, Validation RSE: 0.3752\n",
      "Epoch [16/200], Train Loss: 0.0223, Validation Loss: 0.0166, Validation RSE: 0.3433\n",
      "Epoch [17/200], Train Loss: 0.0124, Validation Loss: 0.0153, Validation RSE: 0.3070\n",
      "Epoch [18/200], Train Loss: 0.0055, Validation Loss: 0.0153, Validation RSE: 0.3239\n",
      "Epoch [19/200], Train Loss: 0.0112, Validation Loss: 0.0154, Validation RSE: 0.2975\n",
      "Epoch [20/200], Train Loss: 0.0121, Validation Loss: 0.0155, Validation RSE: 0.3275\n",
      "Epoch [21/200], Train Loss: 0.0257, Validation Loss: 0.0152, Validation RSE: 0.3125\n",
      "Epoch [22/200], Train Loss: 0.0040, Validation Loss: 0.0152, Validation RSE: 0.2934\n",
      "Epoch [23/200], Train Loss: 0.0154, Validation Loss: 0.0154, Validation RSE: 0.3355\n",
      "Epoch [24/200], Train Loss: 0.0186, Validation Loss: 0.0153, Validation RSE: 0.3018\n",
      "Epoch [25/200], Train Loss: 0.0176, Validation Loss: 0.0154, Validation RSE: 0.3296\n",
      "Epoch [26/200], Train Loss: 0.0087, Validation Loss: 0.0155, Validation RSE: 0.3052\n",
      "Epoch [27/200], Train Loss: 0.0052, Validation Loss: 0.0149, Validation RSE: 0.2946\n",
      "Epoch [28/200], Train Loss: 0.0074, Validation Loss: 0.0153, Validation RSE: 0.3229\n",
      "Epoch [29/200], Train Loss: 0.0081, Validation Loss: 0.0155, Validation RSE: 0.3567\n",
      "Epoch [30/200], Train Loss: 0.0079, Validation Loss: 0.0151, Validation RSE: 0.3156\n",
      "Epoch [31/200], Train Loss: 0.0124, Validation Loss: 0.0150, Validation RSE: 0.3084\n",
      "Epoch [32/200], Train Loss: 0.0056, Validation Loss: 0.0156, Validation RSE: 0.3056\n",
      "Epoch [33/200], Train Loss: 0.0074, Validation Loss: 0.0150, Validation RSE: 0.2892\n",
      "Epoch [34/200], Train Loss: 0.0019, Validation Loss: 0.0150, Validation RSE: 0.3192\n",
      "Epoch [35/200], Train Loss: 0.0143, Validation Loss: 0.0146, Validation RSE: 0.2780\n",
      "Epoch [36/200], Train Loss: 0.0049, Validation Loss: 0.0146, Validation RSE: 0.2743\n",
      "Epoch [37/200], Train Loss: 0.0135, Validation Loss: 0.0162, Validation RSE: 0.3498\n",
      "Epoch [38/200], Train Loss: 0.0131, Validation Loss: 0.0154, Validation RSE: 0.3374\n",
      "Epoch [39/200], Train Loss: 0.0086, Validation Loss: 0.0143, Validation RSE: 0.2767\n",
      "Epoch [40/200], Train Loss: 0.0068, Validation Loss: 0.0147, Validation RSE: 0.3075\n",
      "Epoch [41/200], Train Loss: 0.0155, Validation Loss: 0.0144, Validation RSE: 0.2849\n",
      "Epoch [42/200], Train Loss: 0.0284, Validation Loss: 0.0145, Validation RSE: 0.2860\n",
      "Epoch [43/200], Train Loss: 0.0110, Validation Loss: 0.0147, Validation RSE: 0.2861\n",
      "Epoch [44/200], Train Loss: 0.0385, Validation Loss: 0.0189, Validation RSE: 0.3566\n",
      "Epoch [45/200], Train Loss: 0.0019, Validation Loss: 0.0161, Validation RSE: 0.3279\n",
      "Epoch [46/200], Train Loss: 0.0057, Validation Loss: 0.0157, Validation RSE: 0.3599\n",
      "Epoch [47/200], Train Loss: 0.0102, Validation Loss: 0.0149, Validation RSE: 0.3011\n",
      "Epoch [48/200], Train Loss: 0.0168, Validation Loss: 0.0151, Validation RSE: 0.3229\n",
      "Epoch [49/200], Train Loss: 0.0192, Validation Loss: 0.0151, Validation RSE: 0.3050\n",
      "Epoch [50/200], Train Loss: 0.0314, Validation Loss: 0.0152, Validation RSE: 0.3280\n",
      "Epoch [51/200], Train Loss: 0.0150, Validation Loss: 0.0151, Validation RSE: 0.3225\n",
      "Epoch [52/200], Train Loss: 0.0090, Validation Loss: 0.0153, Validation RSE: 0.3487\n",
      "Epoch [53/200], Train Loss: 0.0100, Validation Loss: 0.0168, Validation RSE: 0.4378\n",
      "Epoch [54/200], Train Loss: 0.0193, Validation Loss: 0.0156, Validation RSE: 0.3414\n",
      "Epoch [55/200], Train Loss: 0.0077, Validation Loss: 0.0147, Validation RSE: 0.2897\n",
      "Epoch [56/200], Train Loss: 0.0074, Validation Loss: 0.0149, Validation RSE: 0.2931\n",
      "Epoch [57/200], Train Loss: 0.0147, Validation Loss: 0.0154, Validation RSE: 0.3426\n",
      "Epoch [58/200], Train Loss: 0.0058, Validation Loss: 0.0168, Validation RSE: 0.4302\n",
      "Epoch [59/200], Train Loss: 0.0058, Validation Loss: 0.0156, Validation RSE: 0.3546\n",
      "Epoch [60/200], Train Loss: 0.0047, Validation Loss: 0.0146, Validation RSE: 0.3023\n",
      "Epoch [61/200], Train Loss: 0.0137, Validation Loss: 0.0148, Validation RSE: 0.3099\n",
      "Epoch [62/200], Train Loss: 0.0216, Validation Loss: 0.0164, Validation RSE: 0.3701\n",
      "Epoch [63/200], Train Loss: 0.0201, Validation Loss: 0.0149, Validation RSE: 0.3293\n",
      "Epoch [64/200], Train Loss: 0.0253, Validation Loss: 0.0146, Validation RSE: 0.3038\n",
      "Epoch [65/200], Train Loss: 0.0174, Validation Loss: 0.0151, Validation RSE: 0.3304\n",
      "Epoch [66/200], Train Loss: 0.0093, Validation Loss: 0.0150, Validation RSE: 0.3204\n",
      "Epoch [67/200], Train Loss: 0.0057, Validation Loss: 0.0152, Validation RSE: 0.3011\n",
      "Epoch [68/200], Train Loss: 0.0104, Validation Loss: 0.0146, Validation RSE: 0.2848\n",
      "Epoch [69/200], Train Loss: 0.0141, Validation Loss: 0.0150, Validation RSE: 0.3231\n",
      "Epoch [70/200], Train Loss: 0.0140, Validation Loss: 0.0144, Validation RSE: 0.3034\n",
      "Epoch [71/200], Train Loss: 0.0092, Validation Loss: 0.0145, Validation RSE: 0.3113\n",
      "Epoch [72/200], Train Loss: 0.0182, Validation Loss: 0.0150, Validation RSE: 0.2963\n",
      "Epoch [73/200], Train Loss: 0.0045, Validation Loss: 0.0149, Validation RSE: 0.2974\n",
      "Epoch [74/200], Train Loss: 0.0042, Validation Loss: 0.0150, Validation RSE: 0.3011\n",
      "Epoch [75/200], Train Loss: 0.0035, Validation Loss: 0.0141, Validation RSE: 0.2466\n",
      "Epoch [76/200], Train Loss: 0.0152, Validation Loss: 0.0142, Validation RSE: 0.2731\n",
      "Epoch [77/200], Train Loss: 0.0259, Validation Loss: 0.0140, Validation RSE: 0.2946\n",
      "Epoch [78/200], Train Loss: 0.0075, Validation Loss: 0.0150, Validation RSE: 0.3412\n",
      "Epoch [79/200], Train Loss: 0.0159, Validation Loss: 0.0140, Validation RSE: 0.2808\n",
      "Epoch [80/200], Train Loss: 0.0129, Validation Loss: 0.0145, Validation RSE: 0.3020\n",
      "Epoch [81/200], Train Loss: 0.0129, Validation Loss: 0.0149, Validation RSE: 0.3179\n",
      "Epoch [82/200], Train Loss: 0.0144, Validation Loss: 0.0150, Validation RSE: 0.3201\n",
      "Epoch [83/200], Train Loss: 0.0054, Validation Loss: 0.0146, Validation RSE: 0.3299\n",
      "Epoch [84/200], Train Loss: 0.0026, Validation Loss: 0.0148, Validation RSE: 0.3308\n",
      "Epoch [85/200], Train Loss: 0.0060, Validation Loss: 0.0139, Validation RSE: 0.3033\n",
      "Epoch [86/200], Train Loss: 0.0104, Validation Loss: 0.0141, Validation RSE: 0.3054\n",
      "Epoch [87/200], Train Loss: 0.0065, Validation Loss: 0.0138, Validation RSE: 0.2811\n",
      "Epoch [88/200], Train Loss: 0.0166, Validation Loss: 0.0140, Validation RSE: 0.2985\n",
      "Epoch [89/200], Train Loss: 0.0305, Validation Loss: 0.0145, Validation RSE: 0.3253\n",
      "Epoch [90/200], Train Loss: 0.0142, Validation Loss: 0.0141, Validation RSE: 0.3286\n",
      "Epoch [91/200], Train Loss: 0.0037, Validation Loss: 0.0147, Validation RSE: 0.3666\n",
      "Epoch [92/200], Train Loss: 0.0145, Validation Loss: 0.0144, Validation RSE: 0.3434\n",
      "Epoch [93/200], Train Loss: 0.0137, Validation Loss: 0.0145, Validation RSE: 0.3254\n",
      "Epoch [94/200], Train Loss: 0.0050, Validation Loss: 0.0143, Validation RSE: 0.3240\n",
      "Epoch [95/200], Train Loss: 0.0104, Validation Loss: 0.0149, Validation RSE: 0.3663\n",
      "Epoch [96/200], Train Loss: 0.0051, Validation Loss: 0.0140, Validation RSE: 0.3159\n",
      "Epoch [97/200], Train Loss: 0.0083, Validation Loss: 0.0146, Validation RSE: 0.3187\n",
      "Epoch [98/200], Train Loss: 0.0132, Validation Loss: 0.0136, Validation RSE: 0.2955\n",
      "Epoch [99/200], Train Loss: 0.0041, Validation Loss: 0.0136, Validation RSE: 0.2849\n",
      "Epoch [100/200], Train Loss: 0.0120, Validation Loss: 0.0143, Validation RSE: 0.3282\n",
      "Epoch [101/200], Train Loss: 0.0069, Validation Loss: 0.0133, Validation RSE: 0.2724\n",
      "Epoch [102/200], Train Loss: 0.0061, Validation Loss: 0.0140, Validation RSE: 0.3166\n",
      "Epoch [103/200], Train Loss: 0.0092, Validation Loss: 0.0137, Validation RSE: 0.3034\n",
      "Epoch [104/200], Train Loss: 0.0077, Validation Loss: 0.0145, Validation RSE: 0.3686\n",
      "Epoch [105/200], Train Loss: 0.0022, Validation Loss: 0.0147, Validation RSE: 0.3725\n",
      "Epoch [106/200], Train Loss: 0.0020, Validation Loss: 0.0133, Validation RSE: 0.2766\n",
      "Epoch [107/200], Train Loss: 0.0529, Validation Loss: 0.0131, Validation RSE: 0.2751\n",
      "Epoch [108/200], Train Loss: 0.0050, Validation Loss: 0.0136, Validation RSE: 0.3038\n",
      "Epoch [109/200], Train Loss: 0.0109, Validation Loss: 0.0134, Validation RSE: 0.3050\n",
      "Epoch [110/200], Train Loss: 0.0077, Validation Loss: 0.0131, Validation RSE: 0.2836\n",
      "Epoch [111/200], Train Loss: 0.0053, Validation Loss: 0.0127, Validation RSE: 0.2618\n",
      "Epoch [112/200], Train Loss: 0.0067, Validation Loss: 0.0133, Validation RSE: 0.2874\n",
      "Epoch [113/200], Train Loss: 0.0048, Validation Loss: 0.0129, Validation RSE: 0.2669\n",
      "Epoch [114/200], Train Loss: 0.0117, Validation Loss: 0.0130, Validation RSE: 0.2931\n",
      "Epoch [115/200], Train Loss: 0.0067, Validation Loss: 0.0132, Validation RSE: 0.2986\n",
      "Epoch [116/200], Train Loss: 0.0075, Validation Loss: 0.0127, Validation RSE: 0.2773\n",
      "Epoch [117/200], Train Loss: 0.0031, Validation Loss: 0.0135, Validation RSE: 0.3240\n",
      "Epoch [118/200], Train Loss: 0.0101, Validation Loss: 0.0126, Validation RSE: 0.2645\n",
      "Epoch [119/200], Train Loss: 0.0170, Validation Loss: 0.0141, Validation RSE: 0.3542\n",
      "Epoch [120/200], Train Loss: 0.0064, Validation Loss: 0.0127, Validation RSE: 0.2793\n",
      "Epoch [121/200], Train Loss: 0.0030, Validation Loss: 0.0126, Validation RSE: 0.2842\n",
      "Epoch [122/200], Train Loss: 0.0135, Validation Loss: 0.0133, Validation RSE: 0.3059\n",
      "Epoch [123/200], Train Loss: 0.0042, Validation Loss: 0.0124, Validation RSE: 0.2532\n",
      "Epoch [124/200], Train Loss: 0.0010, Validation Loss: 0.0125, Validation RSE: 0.2681\n",
      "Epoch [125/200], Train Loss: 0.0422, Validation Loss: 0.0172, Validation RSE: 0.3975\n",
      "Epoch [126/200], Train Loss: 0.0148, Validation Loss: 0.0163, Validation RSE: 0.3245\n",
      "Epoch [127/200], Train Loss: 0.0065, Validation Loss: 0.0159, Validation RSE: 0.3578\n",
      "Epoch [128/200], Train Loss: 0.0093, Validation Loss: 0.0155, Validation RSE: 0.3035\n",
      "Epoch [129/200], Train Loss: 0.0096, Validation Loss: 0.0155, Validation RSE: 0.3314\n",
      "Epoch [130/200], Train Loss: 0.0144, Validation Loss: 0.0160, Validation RSE: 0.3586\n",
      "Epoch [131/200], Train Loss: 0.0225, Validation Loss: 0.0161, Validation RSE: 0.3454\n",
      "Epoch [132/200], Train Loss: 0.0136, Validation Loss: 0.0154, Validation RSE: 0.3416\n",
      "Epoch [133/200], Train Loss: 0.0043, Validation Loss: 0.0156, Validation RSE: 0.3629\n",
      "Epoch [134/200], Train Loss: 0.0097, Validation Loss: 0.0145, Validation RSE: 0.2841\n",
      "Epoch [135/200], Train Loss: 0.0198, Validation Loss: 0.0143, Validation RSE: 0.2728\n",
      "Epoch [136/200], Train Loss: 0.0391, Validation Loss: 0.0148, Validation RSE: 0.3389\n",
      "Epoch [137/200], Train Loss: 0.0305, Validation Loss: 0.0151, Validation RSE: 0.3666\n",
      "Epoch [138/200], Train Loss: 0.0550, Validation Loss: 0.0151, Validation RSE: 0.3542\n",
      "Epoch [139/200], Train Loss: 0.0129, Validation Loss: 0.0137, Validation RSE: 0.3015\n",
      "Epoch [140/200], Train Loss: 0.0153, Validation Loss: 0.0140, Validation RSE: 0.3434\n",
      "Epoch [141/200], Train Loss: 0.0096, Validation Loss: 0.0141, Validation RSE: 0.2938\n",
      "Epoch [142/200], Train Loss: 0.0096, Validation Loss: 0.0145, Validation RSE: 0.3748\n",
      "Epoch [143/200], Train Loss: 0.0059, Validation Loss: 0.0129, Validation RSE: 0.2655\n",
      "Epoch [144/200], Train Loss: 0.0112, Validation Loss: 0.0130, Validation RSE: 0.3018\n",
      "Epoch [145/200], Train Loss: 0.0361, Validation Loss: 0.0128, Validation RSE: 0.2860\n",
      "Epoch [146/200], Train Loss: 0.0038, Validation Loss: 0.0140, Validation RSE: 0.3118\n",
      "Epoch [147/200], Train Loss: 0.0134, Validation Loss: 0.0133, Validation RSE: 0.3069\n",
      "Epoch [148/200], Train Loss: 0.0281, Validation Loss: 0.0139, Validation RSE: 0.3600\n",
      "Epoch [149/200], Train Loss: 0.0052, Validation Loss: 0.0128, Validation RSE: 0.2931\n",
      "Epoch [150/200], Train Loss: 0.0136, Validation Loss: 0.0125, Validation RSE: 0.2718\n",
      "Epoch [151/200], Train Loss: 0.0062, Validation Loss: 0.0132, Validation RSE: 0.3163\n",
      "Epoch [152/200], Train Loss: 0.0029, Validation Loss: 0.0124, Validation RSE: 0.2635\n",
      "Epoch [153/200], Train Loss: 0.0108, Validation Loss: 0.0126, Validation RSE: 0.2734\n",
      "Epoch [154/200], Train Loss: 0.0014, Validation Loss: 0.0124, Validation RSE: 0.2824\n",
      "Epoch [155/200], Train Loss: 0.0057, Validation Loss: 0.0125, Validation RSE: 0.2689\n",
      "Epoch [156/200], Train Loss: 0.0094, Validation Loss: 0.0124, Validation RSE: 0.2584\n",
      "Epoch [157/200], Train Loss: 0.0115, Validation Loss: 0.0132, Validation RSE: 0.3249\n",
      "Epoch [158/200], Train Loss: 0.0048, Validation Loss: 0.0127, Validation RSE: 0.3035\n",
      "Epoch [159/200], Train Loss: 0.0160, Validation Loss: 0.0124, Validation RSE: 0.2464\n",
      "Epoch [160/200], Train Loss: 0.0149, Validation Loss: 0.0133, Validation RSE: 0.3122\n",
      "Epoch [161/200], Train Loss: 0.0314, Validation Loss: 0.0124, Validation RSE: 0.2638\n",
      "Epoch [162/200], Train Loss: 0.0278, Validation Loss: 0.0123, Validation RSE: 0.2628\n",
      "Epoch [163/200], Train Loss: 0.0056, Validation Loss: 0.0128, Validation RSE: 0.2970\n",
      "Epoch [164/200], Train Loss: 0.0095, Validation Loss: 0.0128, Validation RSE: 0.2995\n",
      "Epoch [165/200], Train Loss: 0.0157, Validation Loss: 0.0124, Validation RSE: 0.2482\n",
      "Epoch [166/200], Train Loss: 0.0012, Validation Loss: 0.0123, Validation RSE: 0.2474\n",
      "Epoch [167/200], Train Loss: 0.0099, Validation Loss: 0.0131, Validation RSE: 0.3024\n",
      "Epoch [168/200], Train Loss: 0.0066, Validation Loss: 0.0136, Validation RSE: 0.3573\n",
      "Epoch [169/200], Train Loss: 0.0156, Validation Loss: 0.0124, Validation RSE: 0.2606\n",
      "Epoch [170/200], Train Loss: 0.0228, Validation Loss: 0.0126, Validation RSE: 0.2997\n",
      "Epoch [171/200], Train Loss: 0.0016, Validation Loss: 0.0128, Validation RSE: 0.2899\n",
      "Epoch [172/200], Train Loss: 0.0057, Validation Loss: 0.0124, Validation RSE: 0.2788\n",
      "Epoch [173/200], Train Loss: 0.0029, Validation Loss: 0.0125, Validation RSE: 0.2864\n",
      "Epoch [174/200], Train Loss: 0.0047, Validation Loss: 0.0132, Validation RSE: 0.3302\n",
      "Epoch [175/200], Train Loss: 0.0101, Validation Loss: 0.0123, Validation RSE: 0.2732\n",
      "Epoch [176/200], Train Loss: 0.0042, Validation Loss: 0.0119, Validation RSE: 0.2317\n",
      "Epoch [177/200], Train Loss: 0.0042, Validation Loss: 0.0124, Validation RSE: 0.2830\n",
      "Epoch [178/200], Train Loss: 0.0022, Validation Loss: 0.0125, Validation RSE: 0.2943\n",
      "Epoch [179/200], Train Loss: 0.0094, Validation Loss: 0.0130, Validation RSE: 0.2667\n",
      "Epoch [180/200], Train Loss: 0.0060, Validation Loss: 0.0123, Validation RSE: 0.2673\n",
      "Epoch [181/200], Train Loss: 0.0051, Validation Loss: 0.0127, Validation RSE: 0.2674\n",
      "Epoch [182/200], Train Loss: 0.0010, Validation Loss: 0.0126, Validation RSE: 0.2942\n",
      "Epoch [183/200], Train Loss: 0.0024, Validation Loss: 0.0120, Validation RSE: 0.2593\n",
      "Epoch [184/200], Train Loss: 0.0059, Validation Loss: 0.0122, Validation RSE: 0.2779\n",
      "Epoch [185/200], Train Loss: 0.0080, Validation Loss: 0.0121, Validation RSE: 0.2655\n",
      "Epoch [186/200], Train Loss: 0.0068, Validation Loss: 0.0124, Validation RSE: 0.2751\n",
      "Epoch [187/200], Train Loss: 0.0083, Validation Loss: 0.0120, Validation RSE: 0.2535\n",
      "Epoch [188/200], Train Loss: 0.0077, Validation Loss: 0.0121, Validation RSE: 0.2670\n",
      "Epoch [189/200], Train Loss: 0.0014, Validation Loss: 0.0129, Validation RSE: 0.2988\n",
      "Epoch [190/200], Train Loss: 0.0069, Validation Loss: 0.0121, Validation RSE: 0.2701\n",
      "Epoch [191/200], Train Loss: 0.0005, Validation Loss: 0.0116, Validation RSE: 0.2257\n",
      "Epoch [192/200], Train Loss: 0.0045, Validation Loss: 0.0118, Validation RSE: 0.2270\n",
      "Epoch [193/200], Train Loss: 0.0021, Validation Loss: 0.0116, Validation RSE: 0.2408\n",
      "Epoch [194/200], Train Loss: 0.0069, Validation Loss: 0.0116, Validation RSE: 0.2207\n",
      "Epoch [195/200], Train Loss: 0.0020, Validation Loss: 0.0123, Validation RSE: 0.2639\n",
      "Epoch [196/200], Train Loss: 0.0099, Validation Loss: 0.0120, Validation RSE: 0.2492\n",
      "Epoch [197/200], Train Loss: 0.0077, Validation Loss: 0.0121, Validation RSE: 0.2585\n",
      "Epoch [198/200], Train Loss: 0.0060, Validation Loss: 0.0116, Validation RSE: 0.2270\n",
      "Epoch [199/200], Train Loss: 0.0195, Validation Loss: 0.0128, Validation RSE: 0.3068\n",
      "Epoch [200/200], Train Loss: 0.0036, Validation Loss: 0.0118, Validation RSE: 0.2300\n",
      "tensor([0.0960, 0.0923, 0.1033, 0.0997, 0.0857, 0.1048, 0.1153, 0.0873, 0.0695,\n",
      "        0.0789, 0.0990, 0.1183, 0.1113, 0.1157, 0.0652, 0.0907, 0.0795, 0.1061,\n",
      "        0.1187, 0.1264, 0.0755, 0.1137, 0.0738, 0.0596])\n"
     ]
    }
   ],
   "source": [
    "import torch\n",
    "import torch.nn as nn\n",
    "import torch.nn.functional as F\n",
    "from torch.utils.data import TensorDataset, DataLoader\n",
    "\n",
    "train_target = target[indices_train]\n",
    "test_target = target[indices_test]\n",
    "\n",
    "class Attention(nn.Module):\n",
    "    def __init__(self, units):\n",
    "        super(Attention, self).__init__()\n",
    "        self.W = nn.Linear(in_features=27, out_features=units)\n",
    "        self.V = nn.Linear(in_features=units, out_features=27)\n",
    "\n",
    "    def forward(self, inputs):\n",
    "        score = F.tanh(self.W(inputs))\n",
    "        attention_weights = F.softmax(self.V(score), dim=1)\n",
    "        context_vector = attention_weights * inputs\n",
    "        context_vector = torch.sum(context_vector, dim=1)\n",
    "        return context_vector\n",
    "    \n",
    "# Assuming you have a function for relative squared error\n",
    "def relative_squared_error(y_pred, y_true):\n",
    "    \"\"\"Relative squared error (RSE; also called relative mean square error). < 1 is good, = 1 is bad, > 1 really bad.\"\"\"\n",
    "    return np.mean((y_pred - y_true)**2)/np.mean((y_true - y_true.mean())**2)\n",
    "\n",
    "class CustomModel(nn.Module):\n",
    "    def __init__(self):\n",
    "        super(CustomModel, self).__init__()\n",
    "        self.lstm = nn.LSTM(input_size=27, hidden_size=27, batch_first=True)\n",
    "        self.attention = Attention(27)\n",
    "        self.dense1 = nn.Linear(27, 32)\n",
    "        self.dense2 = nn.Linear(32, 24)\n",
    "\n",
    "    def forward(self, x):\n",
    "        lstm_output, _ = self.lstm(x)\n",
    "        attention_output = self.attention(lstm_output)\n",
    "        dense1_output = F.relu(self.dense1(attention_output))\n",
    "        final_output = self.dense2(dense1_output)\n",
    "        return final_output\n",
    "\n",
    "# Create an instance of the model\n",
    "model = CustomModel()\n",
    "\n",
    "# Define the loss function and optimizer\n",
    "criterion = nn.MSELoss()\n",
    "optimizer = torch.optim.Adam(model.parameters())\n",
    "\n",
    "# Convert data to torch tensors\n",
    "train_X_tensor = torch.Tensor(train_X)\n",
    "train_y_tensor = torch.Tensor(train_y)\n",
    "\n",
    "test_X_tensor = torch.Tensor(test_X)\n",
    "test_y_tensor = torch.Tensor(test_y)\n",
    "\n",
    "# Create DataLoader for batches\n",
    "train_dataset = TensorDataset(train_X_tensor, train_y_tensor)\n",
    "train_loader = DataLoader(train_dataset, batch_size=18, shuffle=True)\n",
    "\n",
    "num_epochs = 200\n",
    "\n",
    "for epoch in range(num_epochs):\n",
    "    # Training\n",
    "    model.train()\n",
    "    for batch_X, batch_y in train_loader:\n",
    "        outputs = model(batch_X)\n",
    "        train_loss = criterion(outputs, batch_y)\n",
    "\n",
    "        # Backward and optimize\n",
    "        optimizer.zero_grad()\n",
    "        train_loss.backward()\n",
    "        optimizer.step()\n",
    "\n",
    "    \n",
    "    # Validation\n",
    "    model.eval()\n",
    "    with torch.no_grad():\n",
    "        val_outputs = model(test_X_tensor)\n",
    "        val_loss = criterion(val_outputs, test_y_tensor)\n",
    "\n",
    "    # print(val_outputs.shape)\n",
    "    # print('--------------------------')\n",
    "    # print(test_y_tensor.shape)\n",
    "    # make a prediction\n",
    "    # yhat = model.predict(predictors)\n",
    "    # yhat_test = model.predict(test_X)\n",
    "    # yhat_train = model.predict(train_X)\n",
    "\n",
    "    # inv_yhat_train = scaler.inverse_transform(outputs.detach().numpy())\n",
    "    inv_yhat_test = scaler.inverse_transform(val_outputs.detach().numpy())\n",
    "\n",
    "    \n",
    "    # print(val_outputs)\n",
    "    # print(inv_yhat_test)\n",
    "\n",
    "    # predicted_kw_zone2_train = np.trapz(inv_yhat_train, axis=1)\n",
    "    predicted_kw_zone2_test = np.trapz(inv_yhat_test, axis=1)\n",
    "    \n",
    "\n",
    "    # Calculate accuracy using relative squared error\n",
    "    # train_accuracy = relative_squared_error(predicted_kw_zone2_train, train_target).item()\n",
    "    val_RSE = relative_squared_error(predicted_kw_zone2_test, test_target).item()\n",
    "\n",
    "    # Print metrics\n",
    "    print(f'Epoch [{epoch + 1}/{num_epochs}], '\n",
    "          f'Train Loss: {train_loss.item():.4f}, '\n",
    "          f'Validation Loss: {val_loss.item():.4f}, '\n",
    "          f'Validation RSE: {val_RSE:.4f}')\n",
    "    \n",
    "\n",
    "print(val_outputs[0])\n"
   ]
  },
  {
   "cell_type": "code",
   "execution_count": 83,
   "metadata": {},
   "outputs": [
    {
     "data": {
      "text/plain": [
       "20.597189"
      ]
     },
     "execution_count": 83,
     "metadata": {},
     "output_type": "execute_result"
    }
   ],
   "source": [
    "inv_yhat_test = scaler.inverse_transform(val_outputs.detach().numpy())\n",
    "np.trapz(inv_yhat_test[0])"
   ]
  },
  {
   "cell_type": "code",
   "execution_count": null,
   "metadata": {},
   "outputs": [],
   "source": [
    "array([0.12933231, 0.0894327 , 0.10353798, 0.09147465, 0.08582695,\n",
    "       0.06074694, 0.06393759, 0.08797208, 0.07327911, 0.08935433,\n",
    "       0.10035937, 0.09476929, 0.17362978, 0.13079394, 0.13337023,\n",
    "       0.1610515 , 0.11506849, 0.12425542, 0.09230587, 0.11571109,\n",
    "       0.11367798, 0.13059092, 0.1202011 , 0.11136658])"
   ]
  },
  {
   "cell_type": "code",
   "execution_count": null,
   "metadata": {},
   "outputs": [],
   "source": []
  },
  {
   "cell_type": "code",
   "execution_count": null,
   "metadata": {},
   "outputs": [],
   "source": []
  },
  {
   "cell_type": "code",
   "execution_count": 59,
   "metadata": {},
   "outputs": [
    {
     "data": {
      "image/png": "[encoded data removed]",
      "text/plain": [
       "<Figure size 640x480 with 1 Axes>"
      ]
     },
     "metadata": {},
     "output_type": "display_data"
    }
   ],
   "source": [
    "# plot history\n",
    "plt.plot(history.history['loss'], label='train')\n",
    "plt.plot(history.history['val_loss'], label='test')\n",
    "plt.ylim(0, 0.025)\n",
    "plt.legend()\n",
    "plt.show()"
   ]
  },
  {
   "cell_type": "code",
   "execution_count": 60,
   "metadata": {},
   "outputs": [
    {
     "name": "stdout",
     "output_type": "stream",
     "text": [
      "23/23 [==============================] - 1s 13ms/step\n",
      "5/5 [==============================] - 0s 22ms/step\n",
      "19/19 [==============================] - 0s 13ms/step\n",
      "(723, 24) (145, 24) (578, 24)\n"
     ]
    }
   ],
   "source": [
    "# make a prediction\n",
    "yhat = model.predict(predictors)\n",
    "yhat_test = model.predict(test_X)\n",
    "yhat_train = model.predict(train_X)\n",
    "print(yhat.shape, yhat_test.shape, yhat_train.shape)"
   ]
  },
  {
   "cell_type": "code",
   "execution_count": 61,
   "metadata": {},
   "outputs": [
    {
     "name": "stdout",
     "output_type": "stream",
     "text": [
      "(578,) (145,)\n"
     ]
    }
   ],
   "source": [
    "train_target = target[indices_train]\n",
    "test_target = target[indices_test]\n",
    "print(train_target.shape, test_target.shape)"
   ]
  },
  {
   "cell_type": "code",
   "execution_count": 62,
   "metadata": {},
   "outputs": [
    {
     "name": "stdout",
     "output_type": "stream",
     "text": [
      "(723, 24) (578, 24) (145, 24)\n"
     ]
    }
   ],
   "source": [
    "inv_yhat = scaler.inverse_transform(yhat)\n",
    "inv_yhat_train = scaler.inverse_transform(yhat_train)\n",
    "inv_yhat_test = scaler.inverse_transform(yhat_test)\n",
    "print(inv_yhat.shape, inv_yhat_train.shape, inv_yhat_test.shape)"
   ]
  },
  {
   "cell_type": "code",
   "execution_count": 63,
   "metadata": {},
   "outputs": [
    {
     "name": "stdout",
     "output_type": "stream",
     "text": [
      "(723,) (578,) (145,)\n"
     ]
    }
   ],
   "source": [
    "predicted_kw_zone2 = np.trapz(inv_yhat, axis=1)\n",
    "predicted_kw_zone2_train = np.trapz(inv_yhat_train, axis=1)\n",
    "predicted_kw_zone2_test = np.trapz(inv_yhat_test, axis=1)\n",
    "print(predicted_kw_zone2.shape, predicted_kw_zone2_train.shape, predicted_kw_zone2_test.shape)"
   ]
  },
  {
   "cell_type": "code",
   "execution_count": 64,
   "metadata": {},
   "outputs": [
    {
     "name": "stdout",
     "output_type": "stream",
     "text": [
      "33.22029 21.552499999999995\n",
      "50.446865 48.31099999999999\n",
      "27.910725 26.824999999999996\n",
      "46.293953 51.9835\n",
      "111.750656 111.908\n",
      "38.607407 40.4115\n",
      "51.278214 35.86899999999999\n",
      "88.41078 95.85650000000001\n",
      "89.755104 95.8615\n",
      "35.137943 33.921499999999995\n",
      "27.474205 38.78849999999999\n",
      "41.53313 31.230500000000006\n",
      "28.949415 14.036000000000005\n",
      "133.64299 83.88900000000001\n",
      "23.565062 53.496500000000005\n",
      "66.25008 64.88199999999999\n",
      "36.761593 70.37550000000002\n",
      "35.191856 53.62199999999999\n",
      "114.11981 109.47749999999998\n",
      "83.73123 77.55449999999999\n",
      "30.203043 29.666999999999994\n",
      "56.24201 47.337\n",
      "97.356316 77.0\n",
      "61.86355 59.13\n",
      "21.193386 16.6995\n",
      "26.561018 23.502\n",
      "44.684208 49.892999999999994\n",
      "145.29504 94.03700000000002\n",
      "36.886894 39.34\n",
      "26.4857 36.8225\n",
      "139.11278 115.0815\n",
      "55.18759 46.69400000000001\n",
      "29.530775 37.298500000000004\n",
      "75.55006 71.91650000000001\n",
      "94.35646 97.34750000000001\n",
      "98.38162 102.75099999999999\n",
      "37.28218 29.567999999999994\n",
      "26.106434 26.331000000000003\n",
      "30.600834 37.652\n",
      "34.489952 47.477500000000006\n",
      "26.948223 37.89500000000001\n",
      "64.89796 104.08899999999998\n",
      "71.8349 73.10549999999999\n",
      "45.42639 36.776500000000006\n",
      "40.027588 33.572\n",
      "69.20455 54.526500000000006\n",
      "96.600914 94.511\n",
      "106.381836 101.8965\n",
      "95.324524 70.648\n",
      "40.63386 32.216\n",
      "26.384644 17.7905\n",
      "51.448246 58.11099999999999\n",
      "50.510033 50.5675\n",
      "25.393902 13.838000000000003\n",
      "107.6137 86.473\n",
      "104.80467 126.66749999999999\n",
      "31.380974 17.784\n",
      "30.194275 36.181\n",
      "43.14611 51.278999999999996\n",
      "31.096859 31.553500000000003\n",
      "20.482737 26.7205\n",
      "30.18023 34.79750000000001\n",
      "45.102295 28.7325\n",
      "39.19347 35.41199999999999\n",
      "42.98596 47.458499999999994\n",
      "44.455135 57.580499999999994\n",
      "38.57311 25.099499999999995\n",
      "87.17757 105.32900000000001\n",
      "32.479134 30.314\n",
      "43.472294 32.316\n",
      "89.78125 102.23150000000001\n",
      "32.414246 22.229499999999998\n",
      "72.66096 40.43599999999999\n",
      "45.22899 51.19199999999999\n",
      "116.892334 125.18549999999999\n",
      "53.432495 68.23949999999999\n",
      "68.38494 69.09400000000001\n",
      "135.94005 104.7505\n",
      "48.20807 45.20799999999999\n",
      "44.197395 59.165000000000006\n",
      "48.384476 31.426\n",
      "29.39909 70.44099999999999\n",
      "65.969925 40.39200000000001\n",
      "83.18136 90.1225\n",
      "138.1231 96.7305\n",
      "97.97643 112.53550000000001\n",
      "35.128685 51.59550000000001\n",
      "34.337986 31.9245\n",
      "36.430035 42.7645\n",
      "82.4117 84.628\n",
      "28.432568 27.838999999999995\n",
      "104.229805 94.15549999999998\n",
      "22.97029 28.569499999999998\n",
      "36.200706 50.756\n",
      "124.33211 90.28800000000003\n",
      "43.842216 50.06600000000001\n",
      "85.77748 79.1785\n",
      "145.35114 134.10150000000002\n",
      "58.324238 48.755\n",
      "70.07576 67.134\n",
      "31.405783 32.311\n",
      "53.50358 37.2915\n",
      "62.900826 53.50249999999999\n",
      "107.37355 113.221\n",
      "74.91045 57.75049999999999\n",
      "33.897606 28.6325\n",
      "47.445854 34.56249999999999\n",
      "62.660137 113.23599999999999\n",
      "77.83838 72.165\n",
      "72.97062 63.688500000000005\n",
      "28.670055 25.923000000000005\n",
      "51.827137 44.178999999999995\n",
      "89.872734 83.11600000000001\n",
      "35.82263 24.5575\n",
      "84.94919 99.64999999999998\n",
      "66.37931 67.8485\n",
      "84.35662 80.83499999999998\n",
      "21.988676 14.108999999999998\n",
      "76.684975 95.23999999999998\n",
      "66.09372 56.064000000000014\n",
      "24.403908 33.899\n",
      "83.30164 100.088\n",
      "33.11211 38.9475\n",
      "81.6315 75.81700000000001\n",
      "29.583786 45.429500000000004\n",
      "79.35885 70.63899999999998\n",
      "50.965927 24.7045\n",
      "127.19318 120.02650000000001\n",
      "68.46499 50.24799999999999\n",
      "24.019272 26.963500000000003\n",
      "124.87542 106.86600000000001\n",
      "77.80245 88.94250000000001\n",
      "36.771976 45.219500000000004\n",
      "33.1505 24.716\n",
      "47.543304 43.56\n",
      "95.98061 86.311\n",
      "92.646225 104.63649999999998\n",
      "110.4284 128.498\n",
      "100.81759 100.51299999999999\n",
      "28.724829 28.111000000000004\n",
      "84.20912 42.04200000000001\n",
      "116.243675 98.66449999999999\n",
      "47.599945 42.955\n",
      "119.658226 106.47150000000002\n",
      "83.883125 78.0925\n"
     ]
    }
   ],
   "source": [
    "for i in range (len(predicted_kw_zone2_test)):\n",
    "  print(predicted_kw_zone2_test[i], test_target[i])"
   ]
  },
  {
   "cell_type": "code",
   "execution_count": 65,
   "metadata": {},
   "outputs": [
    {
     "data": {
      "image/png": "[encoded data removed]",
      "text/plain": [
       "<Figure size 640x480 with 1 Axes>"
      ]
     },
     "metadata": {},
     "output_type": "display_data"
    }
   ],
   "source": [
    "# Plotting\n",
    "plt.plot(predicted_kw_zone2_test[::2], 'o-', label='Predicted')\n",
    "plt.plot(test_target[::2], 'o-', label='Target')\n",
    "plt.xlabel('Time')\n",
    "plt.ylabel('Values')\n",
    "plt.title('Comparison of Predicted and Target Values')\n",
    "plt.legend()\n",
    "plt.show()"
   ]
  },
  {
   "cell_type": "code",
   "execution_count": 66,
   "metadata": {},
   "outputs": [
    {
     "name": "stdout",
     "output_type": "stream",
     "text": [
      "0.255881040297981\n"
     ]
    }
   ],
   "source": [
    "def relative_squared_error(y_pred, y_true):\n",
    "    \"\"\"Relative squared error (RSE; also called relative mean square error). < 1 is good, = 1 is bad, > 1 really bad.\"\"\"\n",
    "    return np.mean((y_pred - y_true)**2)/np.mean((y_true - y_true.mean())**2)\n",
    "\n",
    "print(relative_squared_error(predicted_kw_zone2_test, test_target))"
   ]
  },
  {
   "cell_type": "code",
   "execution_count": 211,
   "metadata": {},
   "outputs": [
    {
     "name": "stdout",
     "output_type": "stream",
     "text": [
      "24\n"
     ]
    }
   ],
   "source": [
    "# Calculate absolute difference or squared difference\n",
    "absolute_diff = np.abs(predicted_kw_zone2 - target)\n",
    "# Or squared_diff = (y_true - y_pred)**2\n",
    "\n",
    "# Set a threshold \n",
    "threshold = 20  # Example threshold\n",
    "\n",
    "# Find indices where the difference exceeds the threshold\n",
    "far_away_indices = np.where(absolute_diff > threshold)[0]\n",
    "\n",
    "\n",
    "far_away_in_test = np.intersect1d(far_away_indices, indices_test)\n",
    "print(len(far_away_in_test))"
   ]
  },
  {
   "cell_type": "code",
   "execution_count": 177,
   "metadata": {},
   "outputs": [
    {
     "data": {
      "image/png": "[encoded data removed]",
      "text/plain": [
       "<Figure size 640x480 with 1 Axes>"
      ]
     },
     "metadata": {},
     "output_type": "display_data"
    }
   ],
   "source": [
    "# Plot the histogram of absolute differences\n",
    "plt.hist(absolute_diff, bins=50, edgecolor='black')\n",
    "plt.xlabel('Absolute Difference')\n",
    "plt.ylabel('Frequency')\n",
    "plt.title('Histogram of Absolute Differences')\n",
    "plt.xticks(np.arange(0, max(absolute_diff), 5))\n",
    "plt.yticks(np.arange(0, 150, 5))\n",
    "plt.show()"
   ]
  }
 ],
 "metadata": {
  "kernelspec": {
   "display_name": "Python 3",
   "language": "python",
   "name": "python3"
  },
  "language_info": {
   "codemirror_mode": {
    "name": "ipython",
    "version": 3
   },
   "file_extension": ".py",
   "mimetype": "text/x-python",
   "name": "python",
   "nbconvert_exporter": "python",
   "pygments_lexer": "ipython3",
   "version": "3.10.0"
  }
 },
 "nbformat": 4,
 "nbformat_minor": 2
}
